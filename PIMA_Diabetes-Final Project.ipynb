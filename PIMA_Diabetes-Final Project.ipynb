{
 "cells": [
  {
   "cell_type": "code",
   "execution_count": 2,
   "metadata": {},
   "outputs": [],
   "source": [
    "import pandas as pd\n",
    "import numpy as np\n",
    "import matplotlib.pyplot as plt\n",
    "import seaborn as sns"
   ]
  },
  {
   "cell_type": "code",
   "execution_count": 3,
   "metadata": {},
   "outputs": [],
   "source": [
    "from sklearn.model_selection import train_test_split\n",
    "from sklearn.linear_model import LogisticRegression\n",
    "from sklearn.naive_bayes import GaussianNB\n",
    "from sklearn.ensemble import RandomForestClassifier\n",
    "from sklearn.metrics import accuracy_score\n",
    "from sklearn.metrics import confusion_matrix\n",
    "from sklearn.metrics import recall_score\n",
    "from sklearn.model_selection import cross_val_score"
   ]
  },
  {
   "cell_type": "code",
   "execution_count": 4,
   "metadata": {},
   "outputs": [
    {
     "ename": "ModuleNotFoundError",
     "evalue": "No module named 'keras'",
     "output_type": "error",
     "traceback": [
      "\u001b[1;31m---------------------------------------------------------------------------\u001b[0m",
      "\u001b[1;31mModuleNotFoundError\u001b[0m                       Traceback (most recent call last)",
      "\u001b[1;32m<ipython-input-4-b9e2c8277ae4>\u001b[0m in \u001b[0;36m<module>\u001b[1;34m\u001b[0m\n\u001b[1;32m----> 1\u001b[1;33m \u001b[1;32mfrom\u001b[0m \u001b[0mkeras\u001b[0m\u001b[1;33m.\u001b[0m\u001b[0mmodels\u001b[0m \u001b[1;32mimport\u001b[0m \u001b[0mSequential\u001b[0m\u001b[1;33m\u001b[0m\u001b[1;33m\u001b[0m\u001b[0m\n\u001b[0m\u001b[0;32m      2\u001b[0m \u001b[1;32mfrom\u001b[0m \u001b[0mkeras\u001b[0m\u001b[1;33m.\u001b[0m\u001b[0mlayers\u001b[0m \u001b[1;32mimport\u001b[0m \u001b[0mDense\u001b[0m\u001b[1;33m\u001b[0m\u001b[1;33m\u001b[0m\u001b[0m\n",
      "\u001b[1;31mModuleNotFoundError\u001b[0m: No module named 'keras'"
     ]
    }
   ],
   "source": [
    "from keras.models import Sequential\n",
    "from keras.layers import Dense"
   ]
  },
  {
   "cell_type": "code",
   "execution_count": 4,
   "metadata": {},
   "outputs": [],
   "source": [
    "diabetes_data= pd.read_csv(\"diabetes.csv\")"
   ]
  },
  {
   "cell_type": "code",
   "execution_count": 5,
   "metadata": {},
   "outputs": [
    {
     "data": {
      "text/html": [
       "<div>\n",
       "<style scoped>\n",
       "    .dataframe tbody tr th:only-of-type {\n",
       "        vertical-align: middle;\n",
       "    }\n",
       "\n",
       "    .dataframe tbody tr th {\n",
       "        vertical-align: top;\n",
       "    }\n",
       "\n",
       "    .dataframe thead th {\n",
       "        text-align: right;\n",
       "    }\n",
       "</style>\n",
       "<table border=\"1\" class=\"dataframe\">\n",
       "  <thead>\n",
       "    <tr style=\"text-align: right;\">\n",
       "      <th></th>\n",
       "      <th>Pregnancies</th>\n",
       "      <th>Glucose</th>\n",
       "      <th>BloodPressure</th>\n",
       "      <th>SkinThickness</th>\n",
       "      <th>Insulin</th>\n",
       "      <th>BMI</th>\n",
       "      <th>DiabetesPedigreeFunction</th>\n",
       "      <th>Age</th>\n",
       "      <th>Outcome</th>\n",
       "    </tr>\n",
       "  </thead>\n",
       "  <tbody>\n",
       "    <tr>\n",
       "      <th>0</th>\n",
       "      <td>6</td>\n",
       "      <td>148</td>\n",
       "      <td>72</td>\n",
       "      <td>35</td>\n",
       "      <td>0</td>\n",
       "      <td>33.6</td>\n",
       "      <td>0.627</td>\n",
       "      <td>50</td>\n",
       "      <td>1</td>\n",
       "    </tr>\n",
       "    <tr>\n",
       "      <th>1</th>\n",
       "      <td>1</td>\n",
       "      <td>85</td>\n",
       "      <td>66</td>\n",
       "      <td>29</td>\n",
       "      <td>0</td>\n",
       "      <td>26.6</td>\n",
       "      <td>0.351</td>\n",
       "      <td>31</td>\n",
       "      <td>0</td>\n",
       "    </tr>\n",
       "    <tr>\n",
       "      <th>2</th>\n",
       "      <td>8</td>\n",
       "      <td>183</td>\n",
       "      <td>64</td>\n",
       "      <td>0</td>\n",
       "      <td>0</td>\n",
       "      <td>23.3</td>\n",
       "      <td>0.672</td>\n",
       "      <td>32</td>\n",
       "      <td>1</td>\n",
       "    </tr>\n",
       "    <tr>\n",
       "      <th>3</th>\n",
       "      <td>1</td>\n",
       "      <td>89</td>\n",
       "      <td>66</td>\n",
       "      <td>23</td>\n",
       "      <td>94</td>\n",
       "      <td>28.1</td>\n",
       "      <td>0.167</td>\n",
       "      <td>21</td>\n",
       "      <td>0</td>\n",
       "    </tr>\n",
       "    <tr>\n",
       "      <th>4</th>\n",
       "      <td>0</td>\n",
       "      <td>137</td>\n",
       "      <td>40</td>\n",
       "      <td>35</td>\n",
       "      <td>168</td>\n",
       "      <td>43.1</td>\n",
       "      <td>2.288</td>\n",
       "      <td>33</td>\n",
       "      <td>1</td>\n",
       "    </tr>\n",
       "  </tbody>\n",
       "</table>\n",
       "</div>"
      ],
      "text/plain": [
       "   Pregnancies  Glucose  BloodPressure  SkinThickness  Insulin   BMI  \\\n",
       "0            6      148             72             35        0  33.6   \n",
       "1            1       85             66             29        0  26.6   \n",
       "2            8      183             64              0        0  23.3   \n",
       "3            1       89             66             23       94  28.1   \n",
       "4            0      137             40             35      168  43.1   \n",
       "\n",
       "   DiabetesPedigreeFunction  Age  Outcome  \n",
       "0                     0.627   50        1  \n",
       "1                     0.351   31        0  \n",
       "2                     0.672   32        1  \n",
       "3                     0.167   21        0  \n",
       "4                     2.288   33        1  "
      ]
     },
     "execution_count": 5,
     "metadata": {},
     "output_type": "execute_result"
    }
   ],
   "source": [
    "diabetes_data.head()"
   ]
  },
  {
   "cell_type": "code",
   "execution_count": 6,
   "metadata": {},
   "outputs": [
    {
     "data": {
      "text/plain": [
       "(768, 9)"
      ]
     },
     "execution_count": 6,
     "metadata": {},
     "output_type": "execute_result"
    }
   ],
   "source": [
    "diabetes_data.shape"
   ]
  },
  {
   "cell_type": "markdown",
   "metadata": {},
   "source": [
    "## Prediction : before cleaning"
   ]
  },
  {
   "cell_type": "code",
   "execution_count": 7,
   "metadata": {},
   "outputs": [],
   "source": [
    "X=diabetes_data.iloc[:,:8]\n",
    "Y=diabetes_data[\"Outcome\"]"
   ]
  },
  {
   "cell_type": "code",
   "execution_count": 8,
   "metadata": {},
   "outputs": [],
   "source": [
    "x_train, x_test, y_train, y_test= train_test_split(X,Y, test_size=0.2, random_state=0) "
   ]
  },
  {
   "cell_type": "code",
   "execution_count": 9,
   "metadata": {},
   "outputs": [
    {
     "name": "stderr",
     "output_type": "stream",
     "text": [
      "C:\\Users\\navya\\Anaconda3\\lib\\site-packages\\sklearn\\linear_model\\_logistic.py:764: ConvergenceWarning: lbfgs failed to converge (status=1):\n",
      "STOP: TOTAL NO. of ITERATIONS REACHED LIMIT.\n",
      "\n",
      "Increase the number of iterations (max_iter) or scale the data as shown in:\n",
      "    https://scikit-learn.org/stable/modules/preprocessing.html\n",
      "Please also refer to the documentation for alternative solver options:\n",
      "    https://scikit-learn.org/stable/modules/linear_model.html#logistic-regression\n",
      "  extra_warning_msg=_LOGISTIC_SOLVER_CONVERGENCE_MSG)\n"
     ]
    },
    {
     "data": {
      "text/plain": [
       "LogisticRegression()"
      ]
     },
     "execution_count": 9,
     "metadata": {},
     "output_type": "execute_result"
    }
   ],
   "source": [
    "regressor=LogisticRegression()\n",
    "regressor.fit(x_train, y_train)"
   ]
  },
  {
   "cell_type": "code",
   "execution_count": 10,
   "metadata": {},
   "outputs": [],
   "source": [
    "y_pred=regressor.predict(x_test)"
   ]
  },
  {
   "cell_type": "code",
   "execution_count": 11,
   "metadata": {},
   "outputs": [
    {
     "data": {
      "text/plain": [
       "array([[98,  9],\n",
       "       [18, 29]], dtype=int64)"
      ]
     },
     "execution_count": 11,
     "metadata": {},
     "output_type": "execute_result"
    }
   ],
   "source": [
    "cm=confusion_matrix(y_test,y_pred)\n",
    "cm"
   ]
  },
  {
   "cell_type": "code",
   "execution_count": 12,
   "metadata": {},
   "outputs": [
    {
     "data": {
      "text/plain": [
       "<matplotlib.axes._subplots.AxesSubplot at 0x200fa3574a8>"
      ]
     },
     "execution_count": 12,
     "metadata": {},
     "output_type": "execute_result"
    },
    {
     "data": {
      "image/png": "[encoded data removed]",
      "text/plain": [
       "<Figure size 432x288 with 2 Axes>"
      ]
     },
     "metadata": {
      "needs_background": "light"
     },
     "output_type": "display_data"
    }
   ],
   "source": [
    "sns.heatmap(cm, annot=True)"
   ]
  },
  {
   "cell_type": "code",
   "execution_count": 13,
   "metadata": {},
   "outputs": [
    {
     "name": "stdout",
     "output_type": "stream",
     "text": [
      "Recall score:  0.6170212765957447\n",
      "Accuracy score:  0.8246753246753247\n"
     ]
    }
   ],
   "source": [
    "print(\"Recall score: \", recall_score(y_test,y_pred))\n",
    "print(\"Accuracy score: \", accuracy_score(y_test,y_pred))     "
   ]
  },
  {
   "cell_type": "markdown",
   "metadata": {},
   "source": [
    "#### <font color='green'> *Here, we can clearly see that Glucose, SkinThickness, Insulin are given as 0. Which is impossible for a human being to have.*"
   ]
  },
  {
   "cell_type": "markdown",
   "metadata": {},
   "source": [
    "___________________________________________________"
   ]
  },
  {
   "cell_type": "markdown",
   "metadata": {},
   "source": [
    "## Cleaning"
   ]
  },
  {
   "cell_type": "code",
   "execution_count": 14,
   "metadata": {},
   "outputs": [
    {
     "data": {
      "text/plain": [
       "Pregnancies                 0\n",
       "Glucose                     0\n",
       "BloodPressure               0\n",
       "SkinThickness               0\n",
       "Insulin                     0\n",
       "BMI                         0\n",
       "DiabetesPedigreeFunction    0\n",
       "Age                         0\n",
       "Outcome                     0\n",
       "dtype: int64"
      ]
     },
     "execution_count": 14,
     "metadata": {},
     "output_type": "execute_result"
    }
   ],
   "source": [
    "# checking missing values\n",
    "diabetes_data.isnull().sum()"
   ]
  },
  {
   "cell_type": "markdown",
   "metadata": {},
   "source": [
    "<font color=\"green\"> ***There aren't any missing values***"
   ]
  },
  {
   "cell_type": "code",
   "execution_count": 15,
   "metadata": {},
   "outputs": [
    {
     "data": {
      "image/png": "[encoded data removed]",
      "text/plain": [
       "<Figure size 1440x720 with 2 Axes>"
      ]
     },
     "metadata": {
      "needs_background": "light"
     },
     "output_type": "display_data"
    }
   ],
   "source": [
    "#get correlations of each features in dataset\n",
    "corrmat = diabetes_data.corr()\n",
    "top_corr_features = corrmat.index\n",
    "plt.figure(figsize=(20,10))\n",
    "#plot heat map\n",
    "g=sns.heatmap(diabetes_data[top_corr_features].corr(),annot=True)"
   ]
  },
  {
   "cell_type": "markdown",
   "metadata": {},
   "source": [
    "<font color='green'> The independent features are not correlated to each other which is a good sign."
   ]
  },
  {
   "cell_type": "markdown",
   "metadata": {},
   "source": [
    "## Checking outliers"
   ]
  },
  {
   "cell_type": "code",
   "execution_count": 16,
   "metadata": {},
   "outputs": [],
   "source": [
    "#data.groupby('Outcome').hist(figsize=(9, 9))"
   ]
  },
  {
   "cell_type": "code",
   "execution_count": 17,
   "metadata": {},
   "outputs": [
    {
     "data": {
      "text/plain": [
       "<matplotlib.axes._subplots.AxesSubplot at 0x200fa5184a8>"
      ]
     },
     "execution_count": 17,
     "metadata": {},
     "output_type": "execute_result"
    },
    {
     "data": {
      "image/png": "[encoded data removed]",
      "text/plain": [
       "<Figure size 1080x720 with 1 Axes>"
      ]
     },
     "metadata": {
      "needs_background": "light"
     },
     "output_type": "display_data"
    }
   ],
   "source": [
    "plt.figure(figsize=(15,10))\n",
    "sns.boxplot(data=diabetes_data, palette=\"colorblind\")"
   ]
  },
  {
   "cell_type": "code",
   "execution_count": 18,
   "metadata": {},
   "outputs": [
    {
     "data": {
      "text/plain": [
       "Pregnancies                 0.901674\n",
       "Glucose                     0.173754\n",
       "BloodPressure              -1.843608\n",
       "SkinThickness               0.109372\n",
       "Insulin                     2.272251\n",
       "BMI                        -0.428982\n",
       "DiabetesPedigreeFunction    1.919911\n",
       "Age                         1.129597\n",
       "Outcome                     0.635017\n",
       "dtype: float64"
      ]
     },
     "execution_count": 18,
     "metadata": {},
     "output_type": "execute_result"
    }
   ],
   "source": [
    "diabetes_data.skew()"
   ]
  },
  {
   "cell_type": "markdown",
   "metadata": {},
   "source": [
    "<font color= \"green\">  ***Data is skewed that means outliers exist***"
   ]
  },
  {
   "cell_type": "code",
   "execution_count": 19,
   "metadata": {},
   "outputs": [
    {
     "data": {
      "text/plain": [
       "<matplotlib.axes._subplots.AxesSubplot at 0x200fa6f8f60>"
      ]
     },
     "execution_count": 19,
     "metadata": {},
     "output_type": "execute_result"
    },
    {
     "data": {
      "image/png": "[encoded data removed]",
      "text/plain": [
       "<Figure size 1152x1152 with 8 Axes>"
      ]
     },
     "metadata": {
      "needs_background": "light"
     },
     "output_type": "display_data"
    }
   ],
   "source": [
    "# Distplot\n",
    "\n",
    "fig, ax2 = plt.subplots(4, 2, figsize=(16, 16))\n",
    "sns.distplot(diabetes_data['Pregnancies'],ax=ax2[0][0])\n",
    "sns.distplot(diabetes_data['Glucose'],ax=ax2[0][1])\n",
    "sns.distplot(diabetes_data['BloodPressure'],ax=ax2[1][0])\n",
    "sns.distplot(diabetes_data['SkinThickness'],ax=ax2[1][1])\n",
    "sns.distplot(diabetes_data['Insulin'],ax=ax2[2][0])\n",
    "sns.distplot(diabetes_data['BMI'],ax=ax2[2][1])\n",
    "sns.distplot(diabetes_data['DiabetesPedigreeFunction'],ax=ax2[3][0])\n",
    "sns.distplot(diabetes_data['Age'],ax=ax2[3][1])"
   ]
  },
  {
   "cell_type": "markdown",
   "metadata": {},
   "source": [
    "<font color='green'> From the distribution it can be seen in some of the independent features value is denoted as 0 which is acting as outlier in our data"
   ]
  },
  {
   "cell_type": "markdown",
   "metadata": {},
   "source": [
    "#### Checking outliers in all the independent features :"
   ]
  },
  {
   "cell_type": "code",
   "execution_count": 20,
   "metadata": {},
   "outputs": [
    {
     "data": {
      "text/plain": [
       "False    657\n",
       "True     111\n",
       "Name: Pregnancies, dtype: int64"
      ]
     },
     "execution_count": 20,
     "metadata": {},
     "output_type": "execute_result"
    }
   ],
   "source": [
    "#Pregnancies\n",
    "(diabetes_data.Pregnancies==0).value_counts()"
   ]
  },
  {
   "cell_type": "markdown",
   "metadata": {},
   "source": [
    "<font color='green'> - Incase of ***pregnancy***, it is possible to have zero as a value."
   ]
  },
  {
   "cell_type": "code",
   "execution_count": 21,
   "metadata": {},
   "outputs": [
    {
     "name": "stdout",
     "output_type": "stream",
     "text": [
      "False    763\n",
      "True       5\n",
      "Name: Glucose, dtype: int64\n"
     ]
    },
    {
     "data": {
      "text/plain": [
       "<matplotlib.axes._subplots.AxesSubplot at 0x200fb41a080>"
      ]
     },
     "execution_count": 21,
     "metadata": {},
     "output_type": "execute_result"
    },
    {
     "data": {
      "image/png": "[encoded data removed]",
      "text/plain": [
       "<Figure size 432x288 with 1 Axes>"
      ]
     },
     "metadata": {
      "needs_background": "light"
     },
     "output_type": "display_data"
    }
   ],
   "source": [
    "#Glucose\n",
    "print((diabetes_data.Glucose==0).value_counts())\n",
    "temp=diabetes_data['Glucose']==0\n",
    "sns.countplot(x=temp)"
   ]
  },
  {
   "cell_type": "markdown",
   "metadata": {},
   "source": [
    "<font color= \"green\"> - Even after fasting ***glucose levels*** would not be as low as zero. Therefore zero is an invalid reading. By observing the data we can see 5 counts where the value is 0."
   ]
  },
  {
   "cell_type": "code",
   "execution_count": 22,
   "metadata": {},
   "outputs": [
    {
     "name": "stdout",
     "output_type": "stream",
     "text": [
      "False    733\n",
      "True      35\n",
      "Name: BloodPressure, dtype: int64\n"
     ]
    },
    {
     "data": {
      "text/plain": [
       "<matplotlib.axes._subplots.AxesSubplot at 0x200faef8eb8>"
      ]
     },
     "execution_count": 22,
     "metadata": {},
     "output_type": "execute_result"
    },
    {
     "data": {
      "image/png": "[encoded data removed]",
      "text/plain": [
       "<Figure size 432x288 with 1 Axes>"
      ]
     },
     "metadata": {
      "needs_background": "light"
     },
     "output_type": "display_data"
    }
   ],
   "source": [
    "#BloodPressure\n",
    "print((diabetes_data.BloodPressure==0).value_counts())\n",
    "#(data.BloodPressure==0).value_counts().plot(\"bar\")\n",
    "temp=diabetes_data['BloodPressure']==0\n",
    "sns.countplot(x=temp)"
   ]
  },
  {
   "cell_type": "markdown",
   "metadata": {},
   "source": [
    "<font color= \"green\"> - Similarly living person cannot have ***blood pressure*** as '0'. By observing the data we can see 35 counts where the value is 0."
   ]
  },
  {
   "cell_type": "code",
   "execution_count": 23,
   "metadata": {},
   "outputs": [
    {
     "name": "stdout",
     "output_type": "stream",
     "text": [
      "False    541\n",
      "True     227\n",
      "Name: SkinThickness, dtype: int64\n"
     ]
    },
    {
     "data": {
      "text/plain": [
       "<matplotlib.axes._subplots.AxesSubplot at 0x200fa9086a0>"
      ]
     },
     "execution_count": 23,
     "metadata": {},
     "output_type": "execute_result"
    },
    {
     "data": {
      "image/png": "[encoded data removed]",
      "text/plain": [
       "<Figure size 432x288 with 1 Axes>"
      ]
     },
     "metadata": {
      "needs_background": "light"
     },
     "output_type": "display_data"
    }
   ],
   "source": [
    "#SkinThickness\n",
    "print((diabetes_data.SkinThickness==0).value_counts())\n",
    "#(data.SkinThickness==0).value_counts().plot('bar')\n",
    "temp=diabetes_data['SkinThickness']==0\n",
    "sns.countplot(x=temp)"
   ]
  },
  {
   "cell_type": "markdown",
   "metadata": {},
   "source": [
    "<font color= \"green\"> - For normal people, ***skin fold thickness*** can’t be less than 10 mm. Total count where value is 0 are ***227***."
   ]
  },
  {
   "cell_type": "code",
   "execution_count": 24,
   "metadata": {},
   "outputs": [
    {
     "name": "stdout",
     "output_type": "stream",
     "text": [
      "False    394\n",
      "True     374\n",
      "Name: Insulin, dtype: int64\n"
     ]
    },
    {
     "data": {
      "text/plain": [
       "<matplotlib.axes._subplots.AxesSubplot at 0x200faf366d8>"
      ]
     },
     "execution_count": 24,
     "metadata": {},
     "output_type": "execute_result"
    },
    {
     "data": {
      "image/png": "[encoded data removed]",
      "text/plain": [
       "<Figure size 432x288 with 1 Axes>"
      ]
     },
     "metadata": {
      "needs_background": "light"
     },
     "output_type": "display_data"
    }
   ],
   "source": [
    "#Insulin\n",
    "print((diabetes_data.Insulin==0).value_counts())\n",
    "#(data.Insulin==0).value_counts().plot('bar')\n",
    "temp=diabetes_data['Insulin']==0\n",
    "sns.countplot(x=temp)"
   ]
  },
  {
   "cell_type": "markdown",
   "metadata": {},
   "source": [
    "<font color= \"green\"> - The normal **insulin** range lies between ***16-166 mIU/L***. So the data is inavlid where its mentioned as 0. There are total ***374*** invalid readings"
   ]
  },
  {
   "cell_type": "code",
   "execution_count": 25,
   "metadata": {},
   "outputs": [
    {
     "name": "stdout",
     "output_type": "stream",
     "text": [
      "False    757\n",
      "True      11\n",
      "Name: BMI, dtype: int64\n"
     ]
    },
    {
     "data": {
      "text/plain": [
       "<matplotlib.axes._subplots.AxesSubplot at 0x200fafe0e48>"
      ]
     },
     "execution_count": 25,
     "metadata": {},
     "output_type": "execute_result"
    },
    {
     "data": {
      "image/png": "[encoded data removed]",
      "text/plain": [
       "<Figure size 432x288 with 1 Axes>"
      ]
     },
     "metadata": {
      "needs_background": "light"
     },
     "output_type": "display_data"
    }
   ],
   "source": [
    "#BMI\n",
    "print((diabetes_data.BMI==0).value_counts())\n",
    "#(data.BMI==0).value_counts().plot('bar')\n",
    "temp=diabetes_data['BMI']==0\n",
    "sns.countplot(x=temp)"
   ]
  },
  {
   "cell_type": "markdown",
   "metadata": {},
   "source": [
    "<font color= \"green\"> - Similarly ***BMI*** cant be 0. There are total ***11*** invalid readings"
   ]
  },
  {
   "cell_type": "code",
   "execution_count": 26,
   "metadata": {},
   "outputs": [
    {
     "data": {
      "text/plain": [
       "False    768\n",
       "Name: DiabetesPedigreeFunction, dtype: int64"
      ]
     },
     "execution_count": 26,
     "metadata": {},
     "output_type": "execute_result"
    }
   ],
   "source": [
    "#DiabetesPedigreeFunction\n",
    "(diabetes_data.DiabetesPedigreeFunction==0).value_counts()"
   ]
  },
  {
   "cell_type": "code",
   "execution_count": 27,
   "metadata": {},
   "outputs": [
    {
     "data": {
      "text/plain": [
       "False    768\n",
       "Name: Age, dtype: int64"
      ]
     },
     "execution_count": 27,
     "metadata": {},
     "output_type": "execute_result"
    }
   ],
   "source": [
    "#Age\n",
    "(diabetes_data.Age==0).value_counts()"
   ]
  },
  {
   "cell_type": "markdown",
   "metadata": {},
   "source": [
    "<font color='green'> - ***DiabetesPedigreeFunction*** and ***Age*** doesnt have zeroes"
   ]
  },
  {
   "cell_type": "markdown",
   "metadata": {},
   "source": [
    "#### Treating the outliers"
   ]
  },
  {
   "cell_type": "code",
   "execution_count": 28,
   "metadata": {},
   "outputs": [
    {
     "data": {
      "text/html": [
       "<div>\n",
       "<style scoped>\n",
       "    .dataframe tbody tr th:only-of-type {\n",
       "        vertical-align: middle;\n",
       "    }\n",
       "\n",
       "    .dataframe tbody tr th {\n",
       "        vertical-align: top;\n",
       "    }\n",
       "\n",
       "    .dataframe thead th {\n",
       "        text-align: right;\n",
       "    }\n",
       "</style>\n",
       "<table border=\"1\" class=\"dataframe\">\n",
       "  <thead>\n",
       "    <tr style=\"text-align: right;\">\n",
       "      <th></th>\n",
       "      <th>Outcome</th>\n",
       "      <th>Glucose</th>\n",
       "    </tr>\n",
       "  </thead>\n",
       "  <tbody>\n",
       "    <tr>\n",
       "      <th>0</th>\n",
       "      <td>0</td>\n",
       "      <td>107</td>\n",
       "    </tr>\n",
       "    <tr>\n",
       "      <th>1</th>\n",
       "      <td>1</td>\n",
       "      <td>140</td>\n",
       "    </tr>\n",
       "  </tbody>\n",
       "</table>\n",
       "</div>"
      ],
      "text/plain": [
       "   Outcome  Glucose\n",
       "0        0      107\n",
       "1        1      140"
      ]
     },
     "execution_count": 28,
     "metadata": {},
     "output_type": "execute_result"
    }
   ],
   "source": [
    "glucose = diabetes_data[diabetes_data[\"Glucose\"]!=0]\n",
    "glucose = glucose[[\"Glucose\", 'Outcome']].groupby(['Outcome'])[[\"Glucose\"]].median().reset_index()\n",
    "glucose"
   ]
  },
  {
   "cell_type": "code",
   "execution_count": 29,
   "metadata": {},
   "outputs": [],
   "source": [
    "diabetes_data.loc[(diabetes_data['Outcome'] == 0 ) & (diabetes_data['Glucose']==0), 'Glucose'] = 107\n",
    "diabetes_data.loc[(diabetes_data['Outcome'] == 1 ) & (diabetes_data['Glucose']==0), 'Glucose'] = 140"
   ]
  },
  {
   "cell_type": "code",
   "execution_count": 30,
   "metadata": {},
   "outputs": [
    {
     "data": {
      "text/html": [
       "<div>\n",
       "<style scoped>\n",
       "    .dataframe tbody tr th:only-of-type {\n",
       "        vertical-align: middle;\n",
       "    }\n",
       "\n",
       "    .dataframe tbody tr th {\n",
       "        vertical-align: top;\n",
       "    }\n",
       "\n",
       "    .dataframe thead th {\n",
       "        text-align: right;\n",
       "    }\n",
       "</style>\n",
       "<table border=\"1\" class=\"dataframe\">\n",
       "  <thead>\n",
       "    <tr style=\"text-align: right;\">\n",
       "      <th></th>\n",
       "      <th>Outcome</th>\n",
       "      <th>BloodPressure</th>\n",
       "    </tr>\n",
       "  </thead>\n",
       "  <tbody>\n",
       "    <tr>\n",
       "      <th>0</th>\n",
       "      <td>0</td>\n",
       "      <td>70.0</td>\n",
       "    </tr>\n",
       "    <tr>\n",
       "      <th>1</th>\n",
       "      <td>1</td>\n",
       "      <td>74.5</td>\n",
       "    </tr>\n",
       "  </tbody>\n",
       "</table>\n",
       "</div>"
      ],
      "text/plain": [
       "   Outcome  BloodPressure\n",
       "0        0           70.0\n",
       "1        1           74.5"
      ]
     },
     "execution_count": 30,
     "metadata": {},
     "output_type": "execute_result"
    }
   ],
   "source": [
    "bp = diabetes_data[diabetes_data[\"BloodPressure\"]!=0]\n",
    "bp = bp[[\"BloodPressure\", 'Outcome']].groupby(['Outcome'])[[\"BloodPressure\"]].median().reset_index()\n",
    "bp"
   ]
  },
  {
   "cell_type": "code",
   "execution_count": 31,
   "metadata": {},
   "outputs": [],
   "source": [
    "diabetes_data.loc[(diabetes_data['Outcome'] == 0 ) & (diabetes_data['BloodPressure']==0), 'BloodPressure'] = 70\n",
    "diabetes_data.loc[(diabetes_data['Outcome'] == 1 ) & (diabetes_data['BloodPressure']==0), 'BloodPressure'] = 74.5"
   ]
  },
  {
   "cell_type": "code",
   "execution_count": 32,
   "metadata": {},
   "outputs": [
    {
     "data": {
      "text/html": [
       "<div>\n",
       "<style scoped>\n",
       "    .dataframe tbody tr th:only-of-type {\n",
       "        vertical-align: middle;\n",
       "    }\n",
       "\n",
       "    .dataframe tbody tr th {\n",
       "        vertical-align: top;\n",
       "    }\n",
       "\n",
       "    .dataframe thead th {\n",
       "        text-align: right;\n",
       "    }\n",
       "</style>\n",
       "<table border=\"1\" class=\"dataframe\">\n",
       "  <thead>\n",
       "    <tr style=\"text-align: right;\">\n",
       "      <th></th>\n",
       "      <th>Outcome</th>\n",
       "      <th>SkinThickness</th>\n",
       "    </tr>\n",
       "  </thead>\n",
       "  <tbody>\n",
       "    <tr>\n",
       "      <th>0</th>\n",
       "      <td>0</td>\n",
       "      <td>27</td>\n",
       "    </tr>\n",
       "    <tr>\n",
       "      <th>1</th>\n",
       "      <td>1</td>\n",
       "      <td>32</td>\n",
       "    </tr>\n",
       "  </tbody>\n",
       "</table>\n",
       "</div>"
      ],
      "text/plain": [
       "   Outcome  SkinThickness\n",
       "0        0             27\n",
       "1        1             32"
      ]
     },
     "execution_count": 32,
     "metadata": {},
     "output_type": "execute_result"
    }
   ],
   "source": [
    "skin_t = diabetes_data[diabetes_data[\"SkinThickness\"]!=0]\n",
    "skin_t = skin_t[[\"SkinThickness\", 'Outcome']].groupby(['Outcome'])[[\"SkinThickness\"]].median().reset_index()\n",
    "skin_t"
   ]
  },
  {
   "cell_type": "code",
   "execution_count": 33,
   "metadata": {},
   "outputs": [],
   "source": [
    "diabetes_data.loc[(diabetes_data['Outcome'] == 0 ) & (diabetes_data['SkinThickness']==0), 'SkinThickness'] = 27\n",
    "diabetes_data.loc[(diabetes_data['Outcome'] == 1 ) & (diabetes_data['SkinThickness']==0), 'SkinThickness'] = 32"
   ]
  },
  {
   "cell_type": "code",
   "execution_count": 34,
   "metadata": {},
   "outputs": [
    {
     "data": {
      "text/html": [
       "<div>\n",
       "<style scoped>\n",
       "    .dataframe tbody tr th:only-of-type {\n",
       "        vertical-align: middle;\n",
       "    }\n",
       "\n",
       "    .dataframe tbody tr th {\n",
       "        vertical-align: top;\n",
       "    }\n",
       "\n",
       "    .dataframe thead th {\n",
       "        text-align: right;\n",
       "    }\n",
       "</style>\n",
       "<table border=\"1\" class=\"dataframe\">\n",
       "  <thead>\n",
       "    <tr style=\"text-align: right;\">\n",
       "      <th></th>\n",
       "      <th>Outcome</th>\n",
       "      <th>Insulin</th>\n",
       "    </tr>\n",
       "  </thead>\n",
       "  <tbody>\n",
       "    <tr>\n",
       "      <th>0</th>\n",
       "      <td>0</td>\n",
       "      <td>102.5</td>\n",
       "    </tr>\n",
       "    <tr>\n",
       "      <th>1</th>\n",
       "      <td>1</td>\n",
       "      <td>169.5</td>\n",
       "    </tr>\n",
       "  </tbody>\n",
       "</table>\n",
       "</div>"
      ],
      "text/plain": [
       "   Outcome  Insulin\n",
       "0        0    102.5\n",
       "1        1    169.5"
      ]
     },
     "execution_count": 34,
     "metadata": {},
     "output_type": "execute_result"
    }
   ],
   "source": [
    "ins = diabetes_data[diabetes_data[\"Insulin\"]!=0]\n",
    "ins = ins[[\"Insulin\", 'Outcome']].groupby(['Outcome'])[[\"Insulin\"]].median().reset_index()\n",
    "ins"
   ]
  },
  {
   "cell_type": "code",
   "execution_count": 35,
   "metadata": {},
   "outputs": [],
   "source": [
    "diabetes_data.loc[(diabetes_data['Outcome'] == 0 ) & (diabetes_data['Insulin']==0), 'Insulin'] = 102.5\n",
    "diabetes_data.loc[(diabetes_data['Outcome'] == 1 ) & (diabetes_data['Insulin']==0), 'Insulin'] = 169.5"
   ]
  },
  {
   "cell_type": "code",
   "execution_count": 36,
   "metadata": {},
   "outputs": [
    {
     "data": {
      "text/html": [
       "<div>\n",
       "<style scoped>\n",
       "    .dataframe tbody tr th:only-of-type {\n",
       "        vertical-align: middle;\n",
       "    }\n",
       "\n",
       "    .dataframe tbody tr th {\n",
       "        vertical-align: top;\n",
       "    }\n",
       "\n",
       "    .dataframe thead th {\n",
       "        text-align: right;\n",
       "    }\n",
       "</style>\n",
       "<table border=\"1\" class=\"dataframe\">\n",
       "  <thead>\n",
       "    <tr style=\"text-align: right;\">\n",
       "      <th></th>\n",
       "      <th>Outcome</th>\n",
       "      <th>BMI</th>\n",
       "    </tr>\n",
       "  </thead>\n",
       "  <tbody>\n",
       "    <tr>\n",
       "      <th>0</th>\n",
       "      <td>0</td>\n",
       "      <td>30.1</td>\n",
       "    </tr>\n",
       "    <tr>\n",
       "      <th>1</th>\n",
       "      <td>1</td>\n",
       "      <td>34.3</td>\n",
       "    </tr>\n",
       "  </tbody>\n",
       "</table>\n",
       "</div>"
      ],
      "text/plain": [
       "   Outcome   BMI\n",
       "0        0  30.1\n",
       "1        1  34.3"
      ]
     },
     "execution_count": 36,
     "metadata": {},
     "output_type": "execute_result"
    }
   ],
   "source": [
    "bmi = diabetes_data[diabetes_data[\"BMI\"]!=0]\n",
    "bmi = bmi[[\"BMI\", 'Outcome']].groupby(['Outcome'])[[\"BMI\"]].median().reset_index()\n",
    "bmi"
   ]
  },
  {
   "cell_type": "code",
   "execution_count": 37,
   "metadata": {},
   "outputs": [],
   "source": [
    "diabetes_data.loc[(diabetes_data['Outcome'] == 0 ) & (diabetes_data['BMI']==0), 'BMI'] = 30.1\n",
    "diabetes_data.loc[(diabetes_data['Outcome'] == 1 ) & (diabetes_data['BMI']==0), 'BMI'] = 34.3"
   ]
  },
  {
   "cell_type": "code",
   "execution_count": 38,
   "metadata": {},
   "outputs": [
    {
     "data": {
      "text/plain": [
       "Index(['Pregnancies', 'Glucose', 'BloodPressure', 'SkinThickness', 'Insulin',\n",
       "       'BMI', 'DiabetesPedigreeFunction', 'Age', 'Outcome'],\n",
       "      dtype='object')"
      ]
     },
     "execution_count": 38,
     "metadata": {},
     "output_type": "execute_result"
    }
   ],
   "source": [
    "diabetes_data.columns"
   ]
  },
  {
   "cell_type": "code",
   "execution_count": 39,
   "metadata": {},
   "outputs": [
    {
     "name": "stdout",
     "output_type": "stream",
     "text": [
      "False    768\n",
      "Name: Glucose, dtype: int64 \n",
      "\n",
      "False    768\n",
      "Name: BloodPressure, dtype: int64 \n",
      "\n",
      "False    768\n",
      "Name: SkinThickness, dtype: int64 \n",
      "\n",
      "False    768\n",
      "Name: Insulin, dtype: int64 \n",
      "\n",
      "False    768\n",
      "Name: BMI, dtype: int64\n"
     ]
    }
   ],
   "source": [
    "# Checking again for zeroes as a value\n",
    "print((diabetes_data.Glucose==0).value_counts(),\"\\n\")\n",
    "print((diabetes_data.BloodPressure==0).value_counts(),\"\\n\")\n",
    "print((diabetes_data.SkinThickness==0).value_counts(),\"\\n\")\n",
    "print((diabetes_data.Insulin==0).value_counts(),\"\\n\")\n",
    "print((diabetes_data.BMI==0).value_counts())"
   ]
  },
  {
   "cell_type": "markdown",
   "metadata": {},
   "source": [
    "#### <font color='green'>  There are no outliers now."
   ]
  },
  {
   "cell_type": "markdown",
   "metadata": {},
   "source": [
    "___________________"
   ]
  },
  {
   "cell_type": "code",
   "execution_count": 40,
   "metadata": {},
   "outputs": [
    {
     "data": {
      "text/plain": [
       "0"
      ]
     },
     "execution_count": 40,
     "metadata": {},
     "output_type": "execute_result"
    }
   ],
   "source": [
    "# Checking duplicate rows\n",
    "diabetes_data.duplicated(subset=None, keep='first').sum()"
   ]
  },
  {
   "cell_type": "markdown",
   "metadata": {},
   "source": [
    "<font color='green'> - There are no duplicates in the data"
   ]
  },
  {
   "cell_type": "markdown",
   "metadata": {},
   "source": [
    "________________________________________________"
   ]
  },
  {
   "cell_type": "markdown",
   "metadata": {},
   "source": [
    "## Distribution of Outcome Variable"
   ]
  },
  {
   "cell_type": "code",
   "execution_count": 41,
   "metadata": {},
   "outputs": [
    {
     "data": {
      "text/plain": [
       "0    500\n",
       "1    268\n",
       "Name: Outcome, dtype: int64"
      ]
     },
     "execution_count": 41,
     "metadata": {},
     "output_type": "execute_result"
    }
   ],
   "source": [
    "diabetes_data.Outcome.value_counts()"
   ]
  },
  {
   "cell_type": "code",
   "execution_count": 42,
   "metadata": {},
   "outputs": [],
   "source": [
    "#lt.figure(figsize=(10,5))\n",
    "#diabetes_data.Outcome.value_counts().plot('bar')"
   ]
  },
  {
   "cell_type": "code",
   "execution_count": 43,
   "metadata": {},
   "outputs": [
    {
     "data": {
      "image/png": "[encoded data removed]",
      "text/plain": [
       "<Figure size 432x288 with 1 Axes>"
      ]
     },
     "metadata": {
      "needs_background": "light"
     },
     "output_type": "display_data"
    }
   ],
   "source": [
    "plt.title(\"Total Diabetese Cases\")\n",
    "sns.countplot(x='Outcome',data=diabetes_data, palette=[\"green\", \"red\"])\n",
    "plt.show()"
   ]
  },
  {
   "cell_type": "markdown",
   "metadata": {},
   "source": [
    "#### <font color=\"green\"> ***There are 500 non diabetic cases and 268 are diabetic cases***"
   ]
  },
  {
   "cell_type": "code",
   "execution_count": 44,
   "metadata": {},
   "outputs": [
    {
     "data": {
      "image/png": "[encoded data removed]",
      "text/plain": [
       "<Figure size 432x288 with 1 Axes>"
      ]
     },
     "metadata": {},
     "output_type": "display_data"
    }
   ],
   "source": [
    "labels = \"Non-Diabetic\", \"Diabetic\"\n",
    "sizes = diabetes_data.Outcome.value_counts()\n",
    "explode = (0, 0.1)  \n",
    "fig1, ax1 = plt.subplots()\n",
    "ax1.pie(sizes, explode=explode, labels=labels, autopct='%1.1f%%', colors=['green','red'])\n",
    "ax1.axis('equal')  \n",
    "plt.show()"
   ]
  },
  {
   "cell_type": "markdown",
   "metadata": {},
   "source": [
    "________________"
   ]
  },
  {
   "cell_type": "markdown",
   "metadata": {},
   "source": [
    "### Analysis of 'Age' parameter"
   ]
  },
  {
   "cell_type": "code",
   "execution_count": 45,
   "metadata": {},
   "outputs": [
    {
     "data": {
      "text/html": [
       "<div>\n",
       "<style scoped>\n",
       "    .dataframe tbody tr th:only-of-type {\n",
       "        vertical-align: middle;\n",
       "    }\n",
       "\n",
       "    .dataframe tbody tr th {\n",
       "        vertical-align: top;\n",
       "    }\n",
       "\n",
       "    .dataframe thead th {\n",
       "        text-align: right;\n",
       "    }\n",
       "</style>\n",
       "<table border=\"1\" class=\"dataframe\">\n",
       "  <thead>\n",
       "    <tr style=\"text-align: right;\">\n",
       "      <th></th>\n",
       "      <th>Pregnancies</th>\n",
       "      <th>Glucose</th>\n",
       "      <th>BloodPressure</th>\n",
       "      <th>SkinThickness</th>\n",
       "      <th>Insulin</th>\n",
       "      <th>BMI</th>\n",
       "      <th>DiabetesPedigreeFunction</th>\n",
       "      <th>Age</th>\n",
       "      <th>Outcome</th>\n",
       "      <th>Age_gp</th>\n",
       "    </tr>\n",
       "  </thead>\n",
       "  <tbody>\n",
       "    <tr>\n",
       "      <th>0</th>\n",
       "      <td>6</td>\n",
       "      <td>148</td>\n",
       "      <td>72.0</td>\n",
       "      <td>35</td>\n",
       "      <td>169.5</td>\n",
       "      <td>33.6</td>\n",
       "      <td>0.627</td>\n",
       "      <td>50</td>\n",
       "      <td>1</td>\n",
       "      <td>41-55</td>\n",
       "    </tr>\n",
       "    <tr>\n",
       "      <th>1</th>\n",
       "      <td>1</td>\n",
       "      <td>85</td>\n",
       "      <td>66.0</td>\n",
       "      <td>29</td>\n",
       "      <td>102.5</td>\n",
       "      <td>26.6</td>\n",
       "      <td>0.351</td>\n",
       "      <td>31</td>\n",
       "      <td>0</td>\n",
       "      <td>31-40</td>\n",
       "    </tr>\n",
       "    <tr>\n",
       "      <th>2</th>\n",
       "      <td>8</td>\n",
       "      <td>183</td>\n",
       "      <td>64.0</td>\n",
       "      <td>32</td>\n",
       "      <td>169.5</td>\n",
       "      <td>23.3</td>\n",
       "      <td>0.672</td>\n",
       "      <td>32</td>\n",
       "      <td>1</td>\n",
       "      <td>31-40</td>\n",
       "    </tr>\n",
       "    <tr>\n",
       "      <th>3</th>\n",
       "      <td>1</td>\n",
       "      <td>89</td>\n",
       "      <td>66.0</td>\n",
       "      <td>23</td>\n",
       "      <td>94.0</td>\n",
       "      <td>28.1</td>\n",
       "      <td>0.167</td>\n",
       "      <td>21</td>\n",
       "      <td>0</td>\n",
       "      <td>21-24</td>\n",
       "    </tr>\n",
       "    <tr>\n",
       "      <th>4</th>\n",
       "      <td>0</td>\n",
       "      <td>137</td>\n",
       "      <td>40.0</td>\n",
       "      <td>35</td>\n",
       "      <td>168.0</td>\n",
       "      <td>43.1</td>\n",
       "      <td>2.288</td>\n",
       "      <td>33</td>\n",
       "      <td>1</td>\n",
       "      <td>31-40</td>\n",
       "    </tr>\n",
       "  </tbody>\n",
       "</table>\n",
       "</div>"
      ],
      "text/plain": [
       "   Pregnancies  Glucose  BloodPressure  SkinThickness  Insulin   BMI  \\\n",
       "0            6      148           72.0             35    169.5  33.6   \n",
       "1            1       85           66.0             29    102.5  26.6   \n",
       "2            8      183           64.0             32    169.5  23.3   \n",
       "3            1       89           66.0             23     94.0  28.1   \n",
       "4            0      137           40.0             35    168.0  43.1   \n",
       "\n",
       "   DiabetesPedigreeFunction  Age  Outcome Age_gp  \n",
       "0                     0.627   50        1  41-55  \n",
       "1                     0.351   31        0  31-40  \n",
       "2                     0.672   32        1  31-40  \n",
       "3                     0.167   21        0  21-24  \n",
       "4                     2.288   33        1  31-40  "
      ]
     },
     "execution_count": 45,
     "metadata": {},
     "output_type": "execute_result"
    }
   ],
   "source": [
    "# Binning the age column\n",
    "a=pd.Series([])\n",
    "diabetes_data=diabetes_data\n",
    "for i in diabetes_data.index:\n",
    "    if(diabetes_data.loc[i:i,]['Age']<=24).bool():\n",
    "        a=a.append(pd.Series(['21-24']))\n",
    "    elif(diabetes_data.loc[i:i,]['Age']<=30).bool():\n",
    "        a=a.append(pd.Series(['25-30']))\n",
    "    elif(diabetes_data.loc[i:i,]['Age']<=40).bool():\n",
    "        a=a.append(pd.Series(['31-40']))\n",
    "    elif(diabetes_data.loc[i:i,]['Age']<=55).bool():\n",
    "        a=a.append(pd.Series(['41-55']))\n",
    "    else:\n",
    "        a=a.append(pd.Series(['>55']))\n",
    "a.reset_index(drop=True,inplace=True)\n",
    "diabetes_data['Age_gp']=a\n",
    "diabetes_data.head()"
   ]
  },
  {
   "cell_type": "code",
   "execution_count": 46,
   "metadata": {},
   "outputs": [
    {
     "data": {
      "text/html": [
       "<div>\n",
       "<style scoped>\n",
       "    .dataframe tbody tr th:only-of-type {\n",
       "        vertical-align: middle;\n",
       "    }\n",
       "\n",
       "    .dataframe tbody tr th {\n",
       "        vertical-align: top;\n",
       "    }\n",
       "\n",
       "    .dataframe thead th {\n",
       "        text-align: right;\n",
       "    }\n",
       "</style>\n",
       "<table border=\"1\" class=\"dataframe\">\n",
       "  <thead>\n",
       "    <tr style=\"text-align: right;\">\n",
       "      <th></th>\n",
       "      <th>Outcome</th>\n",
       "    </tr>\n",
       "    <tr>\n",
       "      <th>Age_gp</th>\n",
       "      <th></th>\n",
       "    </tr>\n",
       "  </thead>\n",
       "  <tbody>\n",
       "    <tr>\n",
       "      <th>21-24</th>\n",
       "      <td>31</td>\n",
       "    </tr>\n",
       "    <tr>\n",
       "      <th>25-30</th>\n",
       "      <td>59</td>\n",
       "    </tr>\n",
       "    <tr>\n",
       "      <th>31-40</th>\n",
       "      <td>76</td>\n",
       "    </tr>\n",
       "    <tr>\n",
       "      <th>41-55</th>\n",
       "      <td>85</td>\n",
       "    </tr>\n",
       "    <tr>\n",
       "      <th>&gt;55</th>\n",
       "      <td>17</td>\n",
       "    </tr>\n",
       "  </tbody>\n",
       "</table>\n",
       "</div>"
      ],
      "text/plain": [
       "        Outcome\n",
       "Age_gp         \n",
       "21-24        31\n",
       "25-30        59\n",
       "31-40        76\n",
       "41-55        85\n",
       ">55          17"
      ]
     },
     "execution_count": 46,
     "metadata": {},
     "output_type": "execute_result"
    }
   ],
   "source": [
    "#Find the number of diabetic person in each age group\n",
    "\n",
    "data1=diabetes_data[diabetes_data['Outcome']==1].groupby('Age_gp')[['Outcome']].count()\n",
    "data1\n",
    "data1.head()"
   ]
  },
  {
   "cell_type": "code",
   "execution_count": 47,
   "metadata": {
    "scrolled": true
   },
   "outputs": [
    {
     "data": {
      "text/html": [
       "<div>\n",
       "<style scoped>\n",
       "    .dataframe tbody tr th:only-of-type {\n",
       "        vertical-align: middle;\n",
       "    }\n",
       "\n",
       "    .dataframe tbody tr th {\n",
       "        vertical-align: top;\n",
       "    }\n",
       "\n",
       "    .dataframe thead th {\n",
       "        text-align: right;\n",
       "    }\n",
       "</style>\n",
       "<table border=\"1\" class=\"dataframe\">\n",
       "  <thead>\n",
       "    <tr style=\"text-align: right;\">\n",
       "      <th></th>\n",
       "      <th>Outcome</th>\n",
       "      <th>Diabetic %</th>\n",
       "    </tr>\n",
       "    <tr>\n",
       "      <th>Age_gp</th>\n",
       "      <th></th>\n",
       "      <th></th>\n",
       "    </tr>\n",
       "  </thead>\n",
       "  <tbody>\n",
       "    <tr>\n",
       "      <th>21-24</th>\n",
       "      <td>31</td>\n",
       "      <td>14.155251</td>\n",
       "    </tr>\n",
       "    <tr>\n",
       "      <th>25-30</th>\n",
       "      <td>59</td>\n",
       "      <td>29.797980</td>\n",
       "    </tr>\n",
       "    <tr>\n",
       "      <th>31-40</th>\n",
       "      <td>76</td>\n",
       "      <td>48.407643</td>\n",
       "    </tr>\n",
       "    <tr>\n",
       "      <th>41-55</th>\n",
       "      <td>85</td>\n",
       "      <td>59.027778</td>\n",
       "    </tr>\n",
       "    <tr>\n",
       "      <th>&gt;55</th>\n",
       "      <td>17</td>\n",
       "      <td>34.000000</td>\n",
       "    </tr>\n",
       "  </tbody>\n",
       "</table>\n",
       "</div>"
      ],
      "text/plain": [
       "        Outcome  Diabetic %\n",
       "Age_gp                     \n",
       "21-24        31   14.155251\n",
       "25-30        59   29.797980\n",
       "31-40        76   48.407643\n",
       "41-55        85   59.027778\n",
       ">55          17   34.000000"
      ]
     },
     "execution_count": 47,
     "metadata": {},
     "output_type": "execute_result"
    }
   ],
   "source": [
    "# Percentage of diabetic Person in each age group\n",
    "\n",
    "data2=diabetes_data.groupby('Age_gp')[['Outcome']].count()\n",
    "data1['Diabetic %']=(data1['Outcome']/data2['Outcome'])*100\n",
    "data1"
   ]
  },
  {
   "cell_type": "code",
   "execution_count": 48,
   "metadata": {},
   "outputs": [
    {
     "name": "stdout",
     "output_type": "stream",
     "text": [
      "Requirement already satisfied: palettable in c:\\users\\navya\\anaconda3\\lib\\site-packages (3.3.0)\n",
      "Note: you may need to restart the kernel to use updated packages.\n"
     ]
    }
   ],
   "source": [
    "pip install palettable"
   ]
  },
  {
   "cell_type": "code",
   "execution_count": 49,
   "metadata": {},
   "outputs": [
    {
     "data": {
      "image/png": "[encoded data removed]",
      "text/plain": [
       "<Figure size 432x288 with 1 Axes>"
      ]
     },
     "metadata": {},
     "output_type": "display_data"
    }
   ],
   "source": [
    "# Distribution of various age groups\n",
    "my_circle=plt.Circle( (0,0), 0.7, color='white')\n",
    "from palettable.colorbrewer.qualitative import Pastel1_7\n",
    "plt.pie(data1['Outcome'], labels=data1.index, colors=Pastel1_7.hex_colors)\n",
    "p=plt.gcf()\n",
    "p.gca().add_artist(my_circle)\n",
    "plt.show()"
   ]
  },
  {
   "cell_type": "code",
   "execution_count": 50,
   "metadata": {},
   "outputs": [
    {
     "data": {
      "text/plain": [
       "<matplotlib.axes._subplots.AxesSubplot at 0x200fc8bcb38>"
      ]
     },
     "execution_count": 50,
     "metadata": {},
     "output_type": "execute_result"
    },
    {
     "data": {
      "image/png": "[encoded data removed]",
      "text/plain": [
       "<Figure size 432x288 with 1 Axes>"
      ]
     },
     "metadata": {
      "needs_background": "light"
     },
     "output_type": "display_data"
    }
   ],
   "source": [
    "sns.barplot(data1.index,data1['Diabetic %'], palette='bright', color='salmon')"
   ]
  },
  {
   "cell_type": "code",
   "execution_count": 51,
   "metadata": {},
   "outputs": [],
   "source": [
    "diabetes_data.drop(columns='Age_gp', inplace=True)"
   ]
  },
  {
   "cell_type": "markdown",
   "metadata": {},
   "source": [
    "# Prediction: Model_Selection"
   ]
  },
  {
   "cell_type": "code",
   "execution_count": 52,
   "metadata": {},
   "outputs": [
    {
     "data": {
      "text/plain": [
       "Index(['Pregnancies', 'Glucose', 'BloodPressure', 'SkinThickness', 'Insulin',\n",
       "       'BMI', 'DiabetesPedigreeFunction', 'Age', 'Outcome'],\n",
       "      dtype='object')"
      ]
     },
     "execution_count": 52,
     "metadata": {},
     "output_type": "execute_result"
    }
   ],
   "source": [
    "diabetes_data.columns"
   ]
  },
  {
   "cell_type": "code",
   "execution_count": 53,
   "metadata": {},
   "outputs": [],
   "source": [
    "## Train Test Split\n",
    "feature_columns = ['Pregnancies', 'Glucose', 'BloodPressure', 'SkinThickness', 'Insulin', 'BMI', 'DiabetesPedigreeFunction', 'Age']\n",
    "predicted_class = ['Outcome']"
   ]
  },
  {
   "cell_type": "code",
   "execution_count": 54,
   "metadata": {},
   "outputs": [],
   "source": [
    "X = diabetes_data[feature_columns].values\n",
    "y = diabetes_data[predicted_class].values\n",
    "X_train, X_test, y_train, y_test = train_test_split(X, y, test_size = 0.2, random_state=10)"
   ]
  },
  {
   "cell_type": "code",
   "execution_count": 55,
   "metadata": {},
   "outputs": [
    {
     "name": "stdout",
     "output_type": "stream",
     "text": [
      "(614, 8)\n",
      "(154, 8)\n"
     ]
    }
   ],
   "source": [
    "print(X_train.shape)\n",
    "print(X_test.shape)"
   ]
  },
  {
   "cell_type": "code",
   "execution_count": 56,
   "metadata": {},
   "outputs": [
    {
     "name": "stderr",
     "output_type": "stream",
     "text": [
      "C:\\Users\\navya\\Anaconda3\\lib\\site-packages\\sklearn\\utils\\validation.py:72: DataConversionWarning: A column-vector y was passed when a 1d array was expected. Please change the shape of y to (n_samples, ), for example using ravel().\n",
      "  return f(**kwargs)\n",
      "C:\\Users\\navya\\Anaconda3\\lib\\site-packages\\sklearn\\linear_model\\_logistic.py:764: ConvergenceWarning: lbfgs failed to converge (status=1):\n",
      "STOP: TOTAL NO. of ITERATIONS REACHED LIMIT.\n",
      "\n",
      "Increase the number of iterations (max_iter) or scale the data as shown in:\n",
      "    https://scikit-learn.org/stable/modules/preprocessing.html\n",
      "Please also refer to the documentation for alternative solver options:\n",
      "    https://scikit-learn.org/stable/modules/linear_model.html#logistic-regression\n",
      "  extra_warning_msg=_LOGISTIC_SOLVER_CONVERGENCE_MSG)\n"
     ]
    },
    {
     "data": {
      "text/plain": [
       "LogisticRegression()"
      ]
     },
     "execution_count": 56,
     "metadata": {},
     "output_type": "execute_result"
    }
   ],
   "source": [
    "# Logistic Regression\n",
    "regressor=LogisticRegression()\n",
    "regressor.fit(X_train, y_train)"
   ]
  },
  {
   "cell_type": "code",
   "execution_count": 57,
   "metadata": {},
   "outputs": [],
   "source": [
    "y_pred=regressor.predict(X_test)"
   ]
  },
  {
   "cell_type": "code",
   "execution_count": 58,
   "metadata": {
    "scrolled": true
   },
   "outputs": [
    {
     "data": {
      "text/plain": [
       "array([[83, 12],\n",
       "       [26, 33]], dtype=int64)"
      ]
     },
     "execution_count": 58,
     "metadata": {},
     "output_type": "execute_result"
    }
   ],
   "source": [
    "cm=confusion_matrix(y_test, y_pred)\n",
    "cm"
   ]
  },
  {
   "cell_type": "code",
   "execution_count": 59,
   "metadata": {},
   "outputs": [
    {
     "name": "stdout",
     "output_type": "stream",
     "text": [
      "recall_score: 0.559322033898305\n",
      "accuracy_score: 0.7532467532467533\n"
     ]
    }
   ],
   "source": [
    "lr_recall=recall_score(y_test,y_pred)\n",
    "lr_accuracy=accuracy_score(y_test,y_pred)\n",
    "print(\"recall_score:\",lr_recall)\n",
    "print(\"accuracy_score:\",lr_accuracy)"
   ]
  },
  {
   "cell_type": "code",
   "execution_count": 60,
   "metadata": {},
   "outputs": [
    {
     "data": {
      "text/plain": [
       "<matplotlib.axes._subplots.AxesSubplot at 0x200fc953588>"
      ]
     },
     "execution_count": 60,
     "metadata": {},
     "output_type": "execute_result"
    },
    {
     "data": {
      "image/png": "[encoded data removed]",
      "text/plain": [
       "<Figure size 432x288 with 2 Axes>"
      ]
     },
     "metadata": {
      "needs_background": "light"
     },
     "output_type": "display_data"
    }
   ],
   "source": [
    "group_names = ['True Neg', 'False Pos', 'False Neg', 'True Pos']\n",
    "group_counts = ['{0:0.0f}'.format(value) for value in\n",
    "               cm.flatten()]\n",
    "labels = [f'{v1}\\n{v2}' for v1, v2 in\n",
    "          zip(group_names,group_counts)]\n",
    "labels = np.asarray(labels).reshape(2,2)\n",
    "sns.heatmap(cm, annot=labels, fmt='', cmap='Greens')"
   ]
  },
  {
   "cell_type": "code",
   "execution_count": 61,
   "metadata": {},
   "outputs": [
    {
     "name": "stderr",
     "output_type": "stream",
     "text": [
      "C:\\Users\\navya\\Anaconda3\\lib\\site-packages\\sklearn\\utils\\validation.py:72: DataConversionWarning: A column-vector y was passed when a 1d array was expected. Please change the shape of y to (n_samples, ), for example using ravel().\n",
      "  return f(**kwargs)\n"
     ]
    },
    {
     "data": {
      "text/plain": [
       "GaussianNB()"
      ]
     },
     "execution_count": 61,
     "metadata": {},
     "output_type": "execute_result"
    }
   ],
   "source": [
    "# Naive Bayes\n",
    "nb = GaussianNB()\n",
    "nb.fit(X_train, y_train)"
   ]
  },
  {
   "cell_type": "code",
   "execution_count": 62,
   "metadata": {},
   "outputs": [],
   "source": [
    "y_pred=nb.predict(X_test)"
   ]
  },
  {
   "cell_type": "code",
   "execution_count": 63,
   "metadata": {},
   "outputs": [
    {
     "data": {
      "text/plain": [
       "array([[82, 13],\n",
       "       [23, 36]], dtype=int64)"
      ]
     },
     "execution_count": 63,
     "metadata": {},
     "output_type": "execute_result"
    }
   ],
   "source": [
    "cm=confusion_matrix(y_test, y_pred)\n",
    "cm"
   ]
  },
  {
   "cell_type": "code",
   "execution_count": 64,
   "metadata": {},
   "outputs": [
    {
     "name": "stdout",
     "output_type": "stream",
     "text": [
      "recall_score: 0.6101694915254238\n",
      "accuracy_score: 0.7662337662337663\n"
     ]
    }
   ],
   "source": [
    "nb_recall=recall_score(y_test,y_pred)\n",
    "nb_accuracy=accuracy_score(y_test,y_pred)\n",
    "print(\"recall_score:\",nb_recall)\n",
    "print(\"accuracy_score:\",nb_accuracy)"
   ]
  },
  {
   "cell_type": "code",
   "execution_count": 65,
   "metadata": {},
   "outputs": [
    {
     "data": {
      "text/plain": [
       "<matplotlib.axes._subplots.AxesSubplot at 0x200fb0e06d8>"
      ]
     },
     "execution_count": 65,
     "metadata": {},
     "output_type": "execute_result"
    },
    {
     "data": {
      "image/png": "[encoded data removed]",
      "text/plain": [
       "<Figure size 432x288 with 2 Axes>"
      ]
     },
     "metadata": {
      "needs_background": "light"
     },
     "output_type": "display_data"
    }
   ],
   "source": [
    "group_names = ['True Neg', 'False Pos', 'False Neg', 'True Pos']\n",
    "group_counts = ['{0:0.0f}'.format(value) for value in\n",
    "               cm.flatten()]\n",
    "labels = [f'{v1}\\n{v2}' for v1, v2 in\n",
    "          zip(group_names,group_counts)]\n",
    "labels = np.asarray(labels).reshape(2,2)\n",
    "sns.heatmap(cm, annot=labels, fmt='', cmap='Greens')"
   ]
  },
  {
   "cell_type": "code",
   "execution_count": 66,
   "metadata": {},
   "outputs": [
    {
     "data": {
      "text/plain": [
       "RandomForestClassifier(random_state=10)"
      ]
     },
     "execution_count": 66,
     "metadata": {},
     "output_type": "execute_result"
    }
   ],
   "source": [
    "# Random Forest\n",
    "\n",
    "random_forest_model = RandomForestClassifier(random_state=10)\n",
    "random_forest_model.fit(X_train, y_train.ravel())"
   ]
  },
  {
   "cell_type": "code",
   "execution_count": 67,
   "metadata": {},
   "outputs": [],
   "source": [
    "y_pred = random_forest_model.predict(X_test)"
   ]
  },
  {
   "cell_type": "code",
   "execution_count": 69,
   "metadata": {},
   "outputs": [
    {
     "data": {
      "text/plain": [
       "array([[84, 11],\n",
       "       [ 9, 50]], dtype=int64)"
      ]
     },
     "execution_count": 69,
     "metadata": {},
     "output_type": "execute_result"
    }
   ],
   "source": [
    "cm=confusion_matrix(y_test, y_pred)\n",
    "cm"
   ]
  },
  {
   "cell_type": "code",
   "execution_count": 68,
   "metadata": {},
   "outputs": [
    {
     "name": "stdout",
     "output_type": "stream",
     "text": [
      "recall_score: 0.847457627118644\n",
      "accuracy_score: 0.8701298701298701\n"
     ]
    }
   ],
   "source": [
    "rf_recall=recall_score(y_test,y_pred)\n",
    "rf_accuracy=accuracy_score(y_test,y_pred)\n",
    "print(\"recall_score:\",rf_recall)\n",
    "print(\"accuracy_score:\",rf_accuracy)"
   ]
  },
  {
   "cell_type": "code",
   "execution_count": 70,
   "metadata": {},
   "outputs": [
    {
     "data": {
      "text/plain": [
       "<matplotlib.axes._subplots.AxesSubplot at 0x200fca91780>"
      ]
     },
     "execution_count": 70,
     "metadata": {},
     "output_type": "execute_result"
    },
    {
     "data": {
      "image/png": "[encoded data removed]",
      "text/plain": [
       "<Figure size 432x288 with 2 Axes>"
      ]
     },
     "metadata": {
      "needs_background": "light"
     },
     "output_type": "display_data"
    }
   ],
   "source": [
    "group_names = ['True Neg', 'False Pos', 'False Neg', 'True Pos']\n",
    "group_counts = ['{0:0.0f}'.format(value) for value in\n",
    "               cm.flatten()]\n",
    "labels = [f'{v1}\\n{v2}' for v1, v2 in\n",
    "          zip(group_names,group_counts)]\n",
    "labels = np.asarray(labels).reshape(2,2)\n",
    "sns.heatmap(cm, annot=labels, fmt='', cmap='Greens')"
   ]
  },
  {
   "cell_type": "code",
   "execution_count": 68,
   "metadata": {},
   "outputs": [],
   "source": [
    "# XGBoost"
   ]
  },
  {
   "cell_type": "code",
   "execution_count": 69,
   "metadata": {},
   "outputs": [],
   "source": [
    "## Hyper Parameter Optimization\n",
    "\n",
    "params={\n",
    " \"learning_rate\"    : [0.05, 0.10, 0.15, 0.20, 0.25, 0.30 ] ,\n",
    " \"max_depth\"        : [ 3, 4, 5, 6, 8, 10, 12, 15],\n",
    " \"min_child_weight\" : [ 1, 3, 5, 7 ],\n",
    " \"gamma\"            : [ 0.0, 0.1, 0.2 , 0.3, 0.4 ],\n",
    " \"colsample_bytree\" : [ 0.3, 0.4, 0.5 , 0.7 ]\n",
    "    \n",
    "}"
   ]
  },
  {
   "cell_type": "code",
   "execution_count": 70,
   "metadata": {},
   "outputs": [],
   "source": [
    "#!pip install xgboost"
   ]
  },
  {
   "cell_type": "code",
   "execution_count": 71,
   "metadata": {},
   "outputs": [],
   "source": [
    "## Hyperparameter optimization using RandomizedSearchCV\n",
    "from sklearn.model_selection import RandomizedSearchCV\n",
    "import xgboost"
   ]
  },
  {
   "cell_type": "code",
   "execution_count": 72,
   "metadata": {},
   "outputs": [],
   "source": [
    "classifier=xgboost.XGBClassifier()"
   ]
  },
  {
   "cell_type": "code",
   "execution_count": 73,
   "metadata": {},
   "outputs": [],
   "source": [
    "random_search=RandomizedSearchCV(classifier,param_distributions=params,n_iter=5,scoring='roc_auc',n_jobs=-1,cv=5,verbose=3)"
   ]
  },
  {
   "cell_type": "code",
   "execution_count": 74,
   "metadata": {},
   "outputs": [],
   "source": [
    "def timer(start_time=None):\n",
    "    if not start_time:\n",
    "        start_time = datetime.now()\n",
    "        return start_time\n",
    "    elif start_time:\n",
    "        thour, temp_sec = divmod((datetime.now() - start_time).total_seconds(), 3600)\n",
    "        tmin, tsec = divmod(temp_sec, 60)\n",
    "        print('\\n Time taken: %i hours %i minutes and %s seconds.' % (thour, tmin, round(tsec, 2)))"
   ]
  },
  {
   "cell_type": "code",
   "execution_count": 75,
   "metadata": {},
   "outputs": [
    {
     "name": "stdout",
     "output_type": "stream",
     "text": [
      "Fitting 5 folds for each of 5 candidates, totalling 25 fits\n"
     ]
    },
    {
     "name": "stderr",
     "output_type": "stream",
     "text": [
      "[Parallel(n_jobs=-1)]: Using backend LokyBackend with 4 concurrent workers.\n"
     ]
    },
    {
     "name": "stdout",
     "output_type": "stream",
     "text": [
      "\n",
      " Time taken: 0 hours 0 minutes and 3.39 seconds.\n"
     ]
    },
    {
     "name": "stderr",
     "output_type": "stream",
     "text": [
      "[Parallel(n_jobs=-1)]: Done  25 out of  25 | elapsed:    3.2s finished\n"
     ]
    }
   ],
   "source": [
    "from datetime import datetime\n",
    "# Here we go\n",
    "start_time = timer(None) # timing starts from this point for \"start_time\" variable\n",
    "random_search.fit(X_train,y_train.ravel())\n",
    "timer(start_time) # timing ends here for \"start_time\" variable"
   ]
  },
  {
   "cell_type": "code",
   "execution_count": 76,
   "metadata": {},
   "outputs": [
    {
     "data": {
      "text/plain": [
       "XGBClassifier(base_score=0.5, booster='gbtree', colsample_bylevel=1,\n",
       "              colsample_bynode=1, colsample_bytree=0.4, gamma=0.4, gpu_id=-1,\n",
       "              importance_type='gain', interaction_constraints='',\n",
       "              learning_rate=0.15, max_delta_step=0, max_depth=3,\n",
       "              min_child_weight=3, missing=nan, monotone_constraints='()',\n",
       "              n_estimators=100, n_jobs=0, num_parallel_tree=1,\n",
       "              objective='binary:logistic', random_state=0, reg_alpha=0,\n",
       "              reg_lambda=1, scale_pos_weight=1, subsample=1,\n",
       "              tree_method='exact', validate_parameters=1, verbosity=None)"
      ]
     },
     "execution_count": 76,
     "metadata": {},
     "output_type": "execute_result"
    }
   ],
   "source": [
    "random_search.best_estimator_"
   ]
  },
  {
   "cell_type": "code",
   "execution_count": 77,
   "metadata": {},
   "outputs": [],
   "source": [
    "classifier=xgboost.XGBClassifier(base_score=0.5, booster='gbtree', colsample_bylevel=1,\n",
    "              colsample_bynode=1, colsample_bytree=0.7, gamma=0.1, gpu_id=-1,\n",
    "              importance_type='gain', interaction_constraints='',\n",
    "              learning_rate=0.05, max_delta_step=0, max_depth=5,\n",
    "              min_child_weight=1, missing=None, monotone_constraints='()',\n",
    "              n_estimators=100, n_jobs=0, num_parallel_tree=1,\n",
    "              objective='binary:logistic', random_state=0, reg_alpha=0,\n",
    "              reg_lambda=1, scale_pos_weight=1, subsample=1,\n",
    "              tree_method='exact', validate_parameters=1, verbosity=None)"
   ]
  },
  {
   "cell_type": "code",
   "execution_count": 78,
   "metadata": {},
   "outputs": [
    {
     "name": "stderr",
     "output_type": "stream",
     "text": [
      "C:\\Users\\Administrator\\AppData\\Roaming\\Python\\Python37\\site-packages\\sklearn\\preprocessing\\label.py:219: DataConversionWarning: A column-vector y was passed when a 1d array was expected. Please change the shape of y to (n_samples, ), for example using ravel().\n",
      "  y = column_or_1d(y, warn=True)\n",
      "C:\\Users\\Administrator\\AppData\\Roaming\\Python\\Python37\\site-packages\\sklearn\\preprocessing\\label.py:252: DataConversionWarning: A column-vector y was passed when a 1d array was expected. Please change the shape of y to (n_samples, ), for example using ravel().\n",
      "  y = column_or_1d(y, warn=True)\n"
     ]
    },
    {
     "data": {
      "text/plain": [
       "XGBClassifier(base_score=0.5, booster='gbtree', colsample_bylevel=1,\n",
       "              colsample_bynode=1, colsample_bytree=0.7, gamma=0.1, gpu_id=-1,\n",
       "              importance_type='gain', interaction_constraints='',\n",
       "              learning_rate=0.05, max_delta_step=0, max_depth=5,\n",
       "              min_child_weight=1, missing=None, monotone_constraints='()',\n",
       "              n_estimators=100, n_jobs=0, num_parallel_tree=1,\n",
       "              objective='binary:logistic', random_state=0, reg_alpha=0,\n",
       "              reg_lambda=1, scale_pos_weight=1, subsample=1,\n",
       "              tree_method='exact', validate_parameters=1, verbosity=None)"
      ]
     },
     "execution_count": 78,
     "metadata": {},
     "output_type": "execute_result"
    }
   ],
   "source": [
    "classifier.fit(X_train, y_train)"
   ]
  },
  {
   "cell_type": "code",
   "execution_count": 79,
   "metadata": {},
   "outputs": [],
   "source": [
    "y_pred=classifier.predict(X_test)"
   ]
  },
  {
   "cell_type": "code",
   "execution_count": 80,
   "metadata": {},
   "outputs": [
    {
     "data": {
      "text/plain": [
       "array([[86,  9],\n",
       "       [ 9, 50]], dtype=int64)"
      ]
     },
     "execution_count": 80,
     "metadata": {},
     "output_type": "execute_result"
    }
   ],
   "source": [
    "cm=confusion_matrix(y_test,y_pred)\n",
    "cm"
   ]
  },
  {
   "cell_type": "code",
   "execution_count": 81,
   "metadata": {},
   "outputs": [
    {
     "data": {
      "text/plain": [
       "<matplotlib.axes._subplots.AxesSubplot at 0x1d34549c358>"
      ]
     },
     "execution_count": 81,
     "metadata": {},
     "output_type": "execute_result"
    },
    {
     "data": {
      "image/png": "[encoded data removed]",
      "text/plain": [
       "<Figure size 432x288 with 2 Axes>"
      ]
     },
     "metadata": {
      "needs_background": "light"
     },
     "output_type": "display_data"
    }
   ],
   "source": [
    "#sns.heatmap(cm, annot=True, cmap='Greens')\n",
    "group_names = ['True Neg', 'False Pos', 'False Neg', 'True Pos']\n",
    "group_counts = ['{0:0.0f}'.format(value) for value in\n",
    "               cm.flatten()]\n",
    "labels = [f'{v1}\\n{v2}' for v1, v2 in\n",
    "          zip(group_names,group_counts)]\n",
    "labels = np.asarray(labels).reshape(2,2)\n",
    "sns.heatmap(cm, annot=labels, fmt='', cmap='Blues')"
   ]
  },
  {
   "cell_type": "code",
   "execution_count": 82,
   "metadata": {},
   "outputs": [
    {
     "name": "stdout",
     "output_type": "stream",
     "text": [
      "recall_score: 0.847457627118644\n",
      "accuracy_score: 0.8831168831168831\n"
     ]
    }
   ],
   "source": [
    "xg_recall=recall_score(y_test,y_pred)\n",
    "xg_accuracy=accuracy_score(y_test,y_pred)\n",
    "print(\"recall_score:\",xg_recall)\n",
    "print(\"accuracy_score:\",xg_accuracy)"
   ]
  },
  {
   "cell_type": "markdown",
   "metadata": {},
   "source": [
    "## ANN"
   ]
  },
  {
   "cell_type": "code",
   "execution_count": 83,
   "metadata": {},
   "outputs": [
    {
     "name": "stderr",
     "output_type": "stream",
     "text": [
      "WARNING: Logging before flag parsing goes to stderr.\n",
      "W0808 18:58:17.190257   236 deprecation_wrapper.py:119] From C:\\Users\\Administrator\\.conda\\envs\\tensorflow\\lib\\site-packages\\keras\\backend\\tensorflow_backend.py:74: The name tf.get_default_graph is deprecated. Please use tf.compat.v1.get_default_graph instead.\n",
      "\n"
     ]
    }
   ],
   "source": [
    "# Instantiating the model\n",
    "model=Sequential()"
   ]
  },
  {
   "cell_type": "code",
   "execution_count": 84,
   "metadata": {},
   "outputs": [
    {
     "name": "stderr",
     "output_type": "stream",
     "text": [
      "W0808 18:58:17.322544   236 deprecation_wrapper.py:119] From C:\\Users\\Administrator\\.conda\\envs\\tensorflow\\lib\\site-packages\\keras\\backend\\tensorflow_backend.py:517: The name tf.placeholder is deprecated. Please use tf.compat.v1.placeholder instead.\n",
      "\n",
      "W0808 18:58:17.331508   236 deprecation_wrapper.py:119] From C:\\Users\\Administrator\\.conda\\envs\\tensorflow\\lib\\site-packages\\keras\\backend\\tensorflow_backend.py:4138: The name tf.random_uniform is deprecated. Please use tf.random.uniform instead.\n",
      "\n"
     ]
    }
   ],
   "source": [
    "model.add(Dense(12, input_dim=8, activation='relu'))\n",
    "model.add(Dense(8, activation='relu'))\n",
    "model.add(Dense(1, activation='sigmoid'))"
   ]
  },
  {
   "cell_type": "code",
   "execution_count": 85,
   "metadata": {},
   "outputs": [
    {
     "name": "stderr",
     "output_type": "stream",
     "text": [
      "W0808 18:58:17.431449   236 deprecation_wrapper.py:119] From C:\\Users\\Administrator\\.conda\\envs\\tensorflow\\lib\\site-packages\\keras\\optimizers.py:790: The name tf.train.Optimizer is deprecated. Please use tf.compat.v1.train.Optimizer instead.\n",
      "\n",
      "W0808 18:58:17.468427   236 deprecation_wrapper.py:119] From C:\\Users\\Administrator\\.conda\\envs\\tensorflow\\lib\\site-packages\\keras\\backend\\tensorflow_backend.py:3376: The name tf.log is deprecated. Please use tf.math.log instead.\n",
      "\n",
      "W0808 18:58:17.476422   236 deprecation.py:323] From C:\\Users\\Administrator\\.conda\\envs\\tensorflow\\lib\\site-packages\\tensorflow\\python\\ops\\nn_impl.py:180: add_dispatch_support.<locals>.wrapper (from tensorflow.python.ops.array_ops) is deprecated and will be removed in a future version.\n",
      "Instructions for updating:\n",
      "Use tf.where in 2.0, which has the same broadcast rule as np.where\n"
     ]
    }
   ],
   "source": [
    "model.compile(loss='binary_crossentropy', optimizer='adam', metrics=['accuracy'])"
   ]
  },
  {
   "cell_type": "code",
   "execution_count": 86,
   "metadata": {},
   "outputs": [
    {
     "name": "stderr",
     "output_type": "stream",
     "text": [
      "W0808 18:58:17.728326   236 deprecation_wrapper.py:119] From C:\\Users\\Administrator\\.conda\\envs\\tensorflow\\lib\\site-packages\\keras\\backend\\tensorflow_backend.py:986: The name tf.assign_add is deprecated. Please use tf.compat.v1.assign_add instead.\n",
      "\n"
     ]
    },
    {
     "name": "stdout",
     "output_type": "stream",
     "text": [
      "Epoch 1/200\n",
      "614/614 [==============================] - 0s 537us/step - loss: 5.4865 - acc: 0.6596\n",
      "Epoch 2/200\n",
      "614/614 [==============================] - 0s 57us/step - loss: 5.4865 - acc: 0.6596\n",
      "Epoch 3/200\n",
      "614/614 [==============================] - 0s 67us/step - loss: 5.4865 - acc: 0.6596\n",
      "Epoch 4/200\n",
      "614/614 [==============================] - 0s 60us/step - loss: 5.4865 - acc: 0.6596\n",
      "Epoch 5/200\n",
      "614/614 [==============================] - 0s 55us/step - loss: 5.4865 - acc: 0.6596\n",
      "Epoch 6/200\n",
      "614/614 [==============================] - 0s 55us/step - loss: 5.4865 - acc: 0.6596\n",
      "Epoch 7/200\n",
      "614/614 [==============================] - 0s 57us/step - loss: 5.4865 - acc: 0.6596\n",
      "Epoch 8/200\n",
      "614/614 [==============================] - 0s 63us/step - loss: 5.4865 - acc: 0.6596\n",
      "Epoch 9/200\n",
      "614/614 [==============================] - 0s 59us/step - loss: 5.4865 - acc: 0.6596\n",
      "Epoch 10/200\n",
      "614/614 [==============================] - 0s 60us/step - loss: 5.4865 - acc: 0.6596\n",
      "Epoch 11/200\n",
      "614/614 [==============================] - 0s 60us/step - loss: 5.4865 - acc: 0.6596\n",
      "Epoch 12/200\n",
      "614/614 [==============================] - 0s 63us/step - loss: 5.4865 - acc: 0.6596\n",
      "Epoch 13/200\n",
      "614/614 [==============================] - 0s 63us/step - loss: 5.4865 - acc: 0.6596\n",
      "Epoch 14/200\n",
      "614/614 [==============================] - 0s 72us/step - loss: 5.4865 - acc: 0.6596\n",
      "Epoch 15/200\n",
      "614/614 [==============================] - 0s 59us/step - loss: 5.4865 - acc: 0.6596\n",
      "Epoch 16/200\n",
      "614/614 [==============================] - 0s 59us/step - loss: 5.4865 - acc: 0.6596\n",
      "Epoch 17/200\n",
      "614/614 [==============================] - 0s 68us/step - loss: 5.4865 - acc: 0.6596\n",
      "Epoch 18/200\n",
      "614/614 [==============================] - 0s 62us/step - loss: 5.4865 - acc: 0.6596\n",
      "Epoch 19/200\n",
      "614/614 [==============================] - 0s 65us/step - loss: 5.4865 - acc: 0.6596\n",
      "Epoch 20/200\n",
      "614/614 [==============================] - 0s 67us/step - loss: 5.4865 - acc: 0.6596\n",
      "Epoch 21/200\n",
      "614/614 [==============================] - 0s 59us/step - loss: 5.4865 - acc: 0.6596\n",
      "Epoch 22/200\n",
      "614/614 [==============================] - 0s 67us/step - loss: 5.4865 - acc: 0.6596\n",
      "Epoch 23/200\n",
      "614/614 [==============================] - 0s 59us/step - loss: 5.4865 - acc: 0.6596\n",
      "Epoch 24/200\n",
      "614/614 [==============================] - 0s 60us/step - loss: 5.4865 - acc: 0.6596\n",
      "Epoch 25/200\n",
      "614/614 [==============================] - 0s 60us/step - loss: 5.4865 - acc: 0.6596\n",
      "Epoch 26/200\n",
      "614/614 [==============================] - 0s 60us/step - loss: 5.4865 - acc: 0.6596\n",
      "Epoch 27/200\n",
      "614/614 [==============================] - 0s 70us/step - loss: 5.4865 - acc: 0.6596\n",
      "Epoch 28/200\n",
      "614/614 [==============================] - 0s 62us/step - loss: 5.4865 - acc: 0.6596\n",
      "Epoch 29/200\n",
      "614/614 [==============================] - 0s 63us/step - loss: 5.4865 - acc: 0.6596\n",
      "Epoch 30/200\n",
      "614/614 [==============================] - 0s 59us/step - loss: 5.4865 - acc: 0.6596\n",
      "Epoch 31/200\n",
      "614/614 [==============================] - 0s 60us/step - loss: 5.4865 - acc: 0.6596\n",
      "Epoch 32/200\n",
      "614/614 [==============================] - 0s 59us/step - loss: 5.4865 - acc: 0.6596\n",
      "Epoch 33/200\n",
      "614/614 [==============================] - 0s 59us/step - loss: 5.4865 - acc: 0.6596\n",
      "Epoch 34/200\n",
      "614/614 [==============================] - 0s 60us/step - loss: 5.4865 - acc: 0.6596\n",
      "Epoch 35/200\n",
      "614/614 [==============================] - 0s 62us/step - loss: 5.4865 - acc: 0.6596\n",
      "Epoch 36/200\n",
      "614/614 [==============================] - 0s 59us/step - loss: 5.4865 - acc: 0.6596\n",
      "Epoch 37/200\n",
      "614/614 [==============================] - 0s 57us/step - loss: 5.4865 - acc: 0.6596\n",
      "Epoch 38/200\n",
      "614/614 [==============================] - 0s 59us/step - loss: 5.4865 - acc: 0.6596\n",
      "Epoch 39/200\n",
      "614/614 [==============================] - 0s 59us/step - loss: 5.4865 - acc: 0.6596\n",
      "Epoch 40/200\n",
      "614/614 [==============================] - 0s 59us/step - loss: 5.4865 - acc: 0.6596\n",
      "Epoch 41/200\n",
      "614/614 [==============================] - 0s 59us/step - loss: 5.4865 - acc: 0.6596\n",
      "Epoch 42/200\n",
      "614/614 [==============================] - 0s 67us/step - loss: 5.4865 - acc: 0.6596\n",
      "Epoch 43/200\n",
      "614/614 [==============================] - 0s 62us/step - loss: 5.4865 - acc: 0.6596\n",
      "Epoch 44/200\n",
      "614/614 [==============================] - 0s 59us/step - loss: 5.4865 - acc: 0.6596\n",
      "Epoch 45/200\n",
      "614/614 [==============================] - 0s 55us/step - loss: 5.4865 - acc: 0.6596\n",
      "Epoch 46/200\n",
      "614/614 [==============================] - 0s 59us/step - loss: 5.4865 - acc: 0.6596\n",
      "Epoch 47/200\n",
      "614/614 [==============================] - 0s 59us/step - loss: 5.4865 - acc: 0.6596\n",
      "Epoch 48/200\n",
      "614/614 [==============================] - 0s 59us/step - loss: 5.4865 - acc: 0.6596\n",
      "Epoch 49/200\n",
      "614/614 [==============================] - 0s 60us/step - loss: 5.4865 - acc: 0.6596\n",
      "Epoch 50/200\n",
      "614/614 [==============================] - 0s 59us/step - loss: 5.4865 - acc: 0.6596\n",
      "Epoch 51/200\n",
      "614/614 [==============================] - 0s 55us/step - loss: 5.4865 - acc: 0.6596\n",
      "Epoch 52/200\n",
      "614/614 [==============================] - 0s 55us/step - loss: 5.4865 - acc: 0.6596\n",
      "Epoch 53/200\n",
      "614/614 [==============================] - 0s 60us/step - loss: 5.4865 - acc: 0.6596\n",
      "Epoch 54/200\n",
      "614/614 [==============================] - 0s 60us/step - loss: 5.4865 - acc: 0.6596\n",
      "Epoch 55/200\n",
      "614/614 [==============================] - 0s 65us/step - loss: 5.4865 - acc: 0.6596\n",
      "Epoch 56/200\n",
      "614/614 [==============================] - 0s 57us/step - loss: 5.4865 - acc: 0.6596\n",
      "Epoch 57/200\n",
      "614/614 [==============================] - 0s 60us/step - loss: 5.4865 - acc: 0.6596\n",
      "Epoch 58/200\n",
      "614/614 [==============================] - 0s 59us/step - loss: 5.4865 - acc: 0.6596\n",
      "Epoch 59/200\n",
      "614/614 [==============================] - 0s 55us/step - loss: 5.4865 - acc: 0.6596\n",
      "Epoch 60/200\n",
      "614/614 [==============================] - 0s 57us/step - loss: 5.4865 - acc: 0.6596\n",
      "Epoch 61/200\n",
      "614/614 [==============================] - 0s 55us/step - loss: 5.4865 - acc: 0.6596\n",
      "Epoch 62/200\n",
      "614/614 [==============================] - 0s 62us/step - loss: 5.4865 - acc: 0.6596\n",
      "Epoch 63/200\n",
      "614/614 [==============================] - 0s 59us/step - loss: 5.4865 - acc: 0.6596\n",
      "Epoch 64/200\n",
      "614/614 [==============================] - 0s 57us/step - loss: 5.4865 - acc: 0.6596\n",
      "Epoch 65/200\n",
      "614/614 [==============================] - 0s 59us/step - loss: 5.4865 - acc: 0.6596\n",
      "Epoch 66/200\n",
      "614/614 [==============================] - 0s 55us/step - loss: 5.4865 - acc: 0.6596\n",
      "Epoch 67/200\n",
      "614/614 [==============================] - 0s 63us/step - loss: 5.4865 - acc: 0.6596\n",
      "Epoch 68/200\n",
      "614/614 [==============================] - 0s 62us/step - loss: 5.4865 - acc: 0.6596\n",
      "Epoch 69/200\n",
      "614/614 [==============================] - 0s 59us/step - loss: 5.4865 - acc: 0.6596\n",
      "Epoch 70/200\n",
      "614/614 [==============================] - 0s 57us/step - loss: 5.4865 - acc: 0.6596\n",
      "Epoch 71/200\n",
      "614/614 [==============================] - 0s 62us/step - loss: 5.4865 - acc: 0.6596\n",
      "Epoch 72/200\n",
      "614/614 [==============================] - 0s 59us/step - loss: 5.4865 - acc: 0.6596\n",
      "Epoch 73/200\n",
      "614/614 [==============================] - 0s 59us/step - loss: 5.4865 - acc: 0.6596\n",
      "Epoch 74/200\n",
      "614/614 [==============================] - 0s 62us/step - loss: 5.4865 - acc: 0.6596\n",
      "Epoch 75/200\n",
      "614/614 [==============================] - 0s 55us/step - loss: 5.4865 - acc: 0.6596\n",
      "Epoch 76/200\n",
      "614/614 [==============================] - 0s 62us/step - loss: 5.4865 - acc: 0.6596\n",
      "Epoch 77/200\n",
      "614/614 [==============================] - 0s 60us/step - loss: 5.4865 - acc: 0.6596\n",
      "Epoch 78/200\n",
      "614/614 [==============================] - 0s 55us/step - loss: 5.4865 - acc: 0.6596\n",
      "Epoch 79/200\n",
      "614/614 [==============================] - 0s 59us/step - loss: 5.4865 - acc: 0.6596\n",
      "Epoch 80/200\n",
      "614/614 [==============================] - 0s 60us/step - loss: 5.4865 - acc: 0.6596\n",
      "Epoch 81/200\n",
      "614/614 [==============================] - 0s 55us/step - loss: 5.4865 - acc: 0.6596\n",
      "Epoch 82/200\n",
      "614/614 [==============================] - 0s 59us/step - loss: 5.4865 - acc: 0.6596\n",
      "Epoch 83/200\n",
      "614/614 [==============================] - 0s 59us/step - loss: 5.4865 - acc: 0.6596\n",
      "Epoch 84/200\n",
      "614/614 [==============================] - 0s 59us/step - loss: 5.4865 - acc: 0.6596\n",
      "Epoch 85/200\n",
      "614/614 [==============================] - 0s 59us/step - loss: 5.4865 - acc: 0.6596\n",
      "Epoch 86/200\n",
      "614/614 [==============================] - 0s 60us/step - loss: 5.4865 - acc: 0.6596\n",
      "Epoch 87/200\n",
      "614/614 [==============================] - 0s 55us/step - loss: 5.4865 - acc: 0.6596\n",
      "Epoch 88/200\n",
      "614/614 [==============================] - 0s 62us/step - loss: 5.4865 - acc: 0.6596\n",
      "Epoch 89/200\n",
      "614/614 [==============================] - 0s 50us/step - loss: 5.4865 - acc: 0.6596\n",
      "Epoch 90/200\n",
      "614/614 [==============================] - 0s 60us/step - loss: 5.4865 - acc: 0.6596\n",
      "Epoch 91/200\n",
      "614/614 [==============================] - 0s 62us/step - loss: 5.4865 - acc: 0.6596\n",
      "Epoch 92/200\n",
      "614/614 [==============================] - 0s 50us/step - loss: 5.4865 - acc: 0.6596\n",
      "Epoch 93/200\n",
      "614/614 [==============================] - 0s 59us/step - loss: 5.4865 - acc: 0.6596\n",
      "Epoch 94/200\n",
      "614/614 [==============================] - 0s 60us/step - loss: 5.4865 - acc: 0.6596\n",
      "Epoch 95/200\n",
      "614/614 [==============================] - 0s 70us/step - loss: 5.4865 - acc: 0.6596\n",
      "Epoch 96/200\n",
      "614/614 [==============================] - 0s 57us/step - loss: 5.4865 - acc: 0.6596\n",
      "Epoch 97/200\n",
      "614/614 [==============================] - 0s 62us/step - loss: 5.4865 - acc: 0.6596\n",
      "Epoch 98/200\n",
      "614/614 [==============================] - 0s 57us/step - loss: 5.4865 - acc: 0.6596\n",
      "Epoch 99/200\n",
      "614/614 [==============================] - 0s 57us/step - loss: 5.4865 - acc: 0.6596\n",
      "Epoch 100/200\n",
      "614/614 [==============================] - 0s 52us/step - loss: 5.4865 - acc: 0.6596\n",
      "Epoch 101/200\n",
      "614/614 [==============================] - 0s 57us/step - loss: 5.4865 - acc: 0.6596\n",
      "Epoch 102/200\n",
      "614/614 [==============================] - 0s 57us/step - loss: 5.4865 - acc: 0.6596\n",
      "Epoch 103/200\n",
      "614/614 [==============================] - 0s 62us/step - loss: 5.4865 - acc: 0.6596\n",
      "Epoch 104/200\n",
      "614/614 [==============================] - 0s 62us/step - loss: 5.4865 - acc: 0.6596\n",
      "Epoch 105/200\n",
      "614/614 [==============================] - 0s 60us/step - loss: 5.4865 - acc: 0.6596\n",
      "Epoch 106/200\n",
      "614/614 [==============================] - 0s 54us/step - loss: 5.4865 - acc: 0.6596\n",
      "Epoch 107/200\n",
      "614/614 [==============================] - 0s 60us/step - loss: 5.4865 - acc: 0.6596\n",
      "Epoch 108/200\n",
      "614/614 [==============================] - 0s 60us/step - loss: 5.4865 - acc: 0.6596\n",
      "Epoch 109/200\n",
      "614/614 [==============================] - 0s 60us/step - loss: 5.4865 - acc: 0.6596\n",
      "Epoch 110/200\n",
      "614/614 [==============================] - 0s 55us/step - loss: 5.4865 - acc: 0.6596\n",
      "Epoch 111/200\n",
      "614/614 [==============================] - 0s 63us/step - loss: 5.4865 - acc: 0.6596\n",
      "Epoch 112/200\n",
      "614/614 [==============================] - 0s 54us/step - loss: 5.4865 - acc: 0.6596\n",
      "Epoch 113/200\n",
      "614/614 [==============================] - 0s 59us/step - loss: 5.4865 - acc: 0.6596\n",
      "Epoch 114/200\n",
      "614/614 [==============================] - 0s 62us/step - loss: 5.4865 - acc: 0.6596\n",
      "Epoch 115/200\n",
      "614/614 [==============================] - 0s 59us/step - loss: 5.4865 - acc: 0.6596\n",
      "Epoch 116/200\n",
      "614/614 [==============================] - 0s 62us/step - loss: 5.4865 - acc: 0.6596\n",
      "Epoch 117/200\n",
      "614/614 [==============================] - 0s 60us/step - loss: 5.4865 - acc: 0.6596\n",
      "Epoch 118/200\n",
      "614/614 [==============================] - 0s 59us/step - loss: 5.4865 - acc: 0.6596\n",
      "Epoch 119/200\n",
      "614/614 [==============================] - 0s 60us/step - loss: 5.4865 - acc: 0.6596\n",
      "Epoch 120/200\n",
      "614/614 [==============================] - 0s 63us/step - loss: 5.4865 - acc: 0.6596\n",
      "Epoch 121/200\n",
      "614/614 [==============================] - 0s 62us/step - loss: 5.4865 - acc: 0.6596\n",
      "Epoch 122/200\n",
      "614/614 [==============================] - 0s 52us/step - loss: 5.4865 - acc: 0.6596\n",
      "Epoch 123/200\n",
      "614/614 [==============================] - 0s 60us/step - loss: 5.4865 - acc: 0.6596\n",
      "Epoch 124/200\n",
      "614/614 [==============================] - 0s 52us/step - loss: 5.4865 - acc: 0.6596\n",
      "Epoch 125/200\n",
      "614/614 [==============================] - 0s 54us/step - loss: 5.4865 - acc: 0.6596\n",
      "Epoch 126/200\n",
      "614/614 [==============================] - 0s 60us/step - loss: 5.4865 - acc: 0.6596\n",
      "Epoch 127/200\n",
      "614/614 [==============================] - 0s 59us/step - loss: 5.4865 - acc: 0.6596\n",
      "Epoch 128/200\n",
      "614/614 [==============================] - 0s 54us/step - loss: 5.4865 - acc: 0.6596\n",
      "Epoch 129/200\n",
      "614/614 [==============================] - ETA: 0s - loss: 6.9845 - acc: 0.566 - 0s 54us/step - loss: 5.4865 - acc: 0.6596\n",
      "Epoch 130/200\n",
      "614/614 [==============================] - 0s 55us/step - loss: 5.4865 - acc: 0.6596\n",
      "Epoch 131/200\n",
      "614/614 [==============================] - 0s 59us/step - loss: 5.4865 - acc: 0.6596\n",
      "Epoch 132/200\n",
      "614/614 [==============================] - 0s 60us/step - loss: 5.4865 - acc: 0.6596\n",
      "Epoch 133/200\n",
      "614/614 [==============================] - 0s 65us/step - loss: 5.4865 - acc: 0.6596\n",
      "Epoch 134/200\n",
      "614/614 [==============================] - 0s 63us/step - loss: 5.4865 - acc: 0.6596\n",
      "Epoch 135/200\n",
      "614/614 [==============================] - 0s 57us/step - loss: 5.4865 - acc: 0.6596\n",
      "Epoch 136/200\n",
      "614/614 [==============================] - 0s 60us/step - loss: 5.4865 - acc: 0.6596\n",
      "Epoch 137/200\n",
      "614/614 [==============================] - 0s 59us/step - loss: 5.4865 - acc: 0.6596\n",
      "Epoch 138/200\n",
      "614/614 [==============================] - 0s 60us/step - loss: 5.4865 - acc: 0.6596\n",
      "Epoch 139/200\n",
      "614/614 [==============================] - 0s 59us/step - loss: 5.4865 - acc: 0.6596\n",
      "Epoch 140/200\n",
      "614/614 [==============================] - 0s 62us/step - loss: 5.4865 - acc: 0.6596\n",
      "Epoch 141/200\n",
      "614/614 [==============================] - 0s 49us/step - loss: 5.4865 - acc: 0.6596\n",
      "Epoch 142/200\n",
      "614/614 [==============================] - 0s 57us/step - loss: 5.4865 - acc: 0.6596\n",
      "Epoch 143/200\n",
      "614/614 [==============================] - 0s 60us/step - loss: 5.4865 - acc: 0.6596\n",
      "Epoch 144/200\n",
      "614/614 [==============================] - 0s 59us/step - loss: 5.4865 - acc: 0.6596\n",
      "Epoch 145/200\n",
      "614/614 [==============================] - 0s 55us/step - loss: 5.4865 - acc: 0.6596\n",
      "Epoch 146/200\n",
      "614/614 [==============================] - 0s 59us/step - loss: 5.4865 - acc: 0.6596\n",
      "Epoch 147/200\n",
      "614/614 [==============================] - 0s 63us/step - loss: 5.4865 - acc: 0.6596\n",
      "Epoch 148/200\n",
      "614/614 [==============================] - 0s 60us/step - loss: 5.4865 - acc: 0.6596\n",
      "Epoch 149/200\n",
      "614/614 [==============================] - 0s 57us/step - loss: 5.4865 - acc: 0.6596\n",
      "Epoch 150/200\n",
      "614/614 [==============================] - 0s 57us/step - loss: 5.4865 - acc: 0.6596\n",
      "Epoch 151/200\n",
      "614/614 [==============================] - 0s 59us/step - loss: 5.4865 - acc: 0.6596\n",
      "Epoch 152/200\n",
      "614/614 [==============================] - 0s 54us/step - loss: 5.4865 - acc: 0.6596\n",
      "Epoch 153/200\n",
      "614/614 [==============================] - 0s 52us/step - loss: 5.4865 - acc: 0.6596\n",
      "Epoch 154/200\n",
      "614/614 [==============================] - 0s 52us/step - loss: 5.4865 - acc: 0.6596\n",
      "Epoch 155/200\n",
      "614/614 [==============================] - 0s 55us/step - loss: 5.4865 - acc: 0.6596\n",
      "Epoch 156/200\n",
      "614/614 [==============================] - 0s 54us/step - loss: 5.4865 - acc: 0.6596\n",
      "Epoch 157/200\n",
      "614/614 [==============================] - 0s 59us/step - loss: 5.4865 - acc: 0.6596\n",
      "Epoch 158/200\n",
      "614/614 [==============================] - 0s 59us/step - loss: 5.4865 - acc: 0.6596\n",
      "Epoch 159/200\n",
      "614/614 [==============================] - 0s 54us/step - loss: 5.4865 - acc: 0.6596\n",
      "Epoch 160/200\n",
      "614/614 [==============================] - 0s 62us/step - loss: 5.4865 - acc: 0.6596\n",
      "Epoch 161/200\n",
      "614/614 [==============================] - 0s 73us/step - loss: 5.4865 - acc: 0.6596\n",
      "Epoch 162/200\n",
      "614/614 [==============================] - 0s 78us/step - loss: 5.4865 - acc: 0.6596\n",
      "Epoch 163/200\n",
      "614/614 [==============================] - 0s 78us/step - loss: 5.4865 - acc: 0.6596\n",
      "Epoch 164/200\n",
      "614/614 [==============================] - 0s 73us/step - loss: 5.4865 - acc: 0.6596\n",
      "Epoch 165/200\n",
      "614/614 [==============================] - 0s 75us/step - loss: 5.4865 - acc: 0.6596\n",
      "Epoch 166/200\n"
     ]
    },
    {
     "name": "stdout",
     "output_type": "stream",
     "text": [
      "614/614 [==============================] - 0s 77us/step - loss: 5.4865 - acc: 0.6596\n",
      "Epoch 167/200\n",
      "614/614 [==============================] - 0s 75us/step - loss: 5.4865 - acc: 0.6596\n",
      "Epoch 168/200\n",
      "614/614 [==============================] - 0s 78us/step - loss: 5.4865 - acc: 0.6596\n",
      "Epoch 169/200\n",
      "614/614 [==============================] - 0s 72us/step - loss: 5.4865 - acc: 0.6596\n",
      "Epoch 170/200\n",
      "614/614 [==============================] - 0s 68us/step - loss: 5.4865 - acc: 0.6596\n",
      "Epoch 171/200\n",
      "614/614 [==============================] - 0s 90us/step - loss: 5.4865 - acc: 0.6596\n",
      "Epoch 172/200\n",
      "614/614 [==============================] - 0s 80us/step - loss: 5.4865 - acc: 0.6596\n",
      "Epoch 173/200\n",
      "614/614 [==============================] - 0s 75us/step - loss: 5.4865 - acc: 0.6596\n",
      "Epoch 174/200\n",
      "614/614 [==============================] - 0s 65us/step - loss: 5.4865 - acc: 0.6596\n",
      "Epoch 175/200\n",
      "614/614 [==============================] - 0s 68us/step - loss: 5.4865 - acc: 0.6596\n",
      "Epoch 176/200\n",
      "614/614 [==============================] - 0s 91us/step - loss: 5.4865 - acc: 0.6596\n",
      "Epoch 177/200\n",
      "614/614 [==============================] - 0s 77us/step - loss: 5.4865 - acc: 0.6596\n",
      "Epoch 178/200\n",
      "614/614 [==============================] - 0s 75us/step - loss: 5.4865 - acc: 0.6596\n",
      "Epoch 179/200\n",
      "614/614 [==============================] - 0s 78us/step - loss: 5.4865 - acc: 0.6596\n",
      "Epoch 180/200\n",
      "614/614 [==============================] - 0s 77us/step - loss: 5.4865 - acc: 0.6596\n",
      "Epoch 181/200\n",
      "614/614 [==============================] - 0s 70us/step - loss: 5.4865 - acc: 0.6596\n",
      "Epoch 182/200\n",
      "614/614 [==============================] - 0s 73us/step - loss: 5.4865 - acc: 0.6596\n",
      "Epoch 183/200\n",
      "614/614 [==============================] - 0s 78us/step - loss: 5.4865 - acc: 0.6596\n",
      "Epoch 184/200\n",
      "614/614 [==============================] - 0s 83us/step - loss: 5.4865 - acc: 0.6596\n",
      "Epoch 185/200\n",
      "614/614 [==============================] - 0s 76us/step - loss: 5.4865 - acc: 0.6596\n",
      "Epoch 186/200\n",
      "614/614 [==============================] - 0s 80us/step - loss: 5.4865 - acc: 0.6596\n",
      "Epoch 187/200\n",
      "614/614 [==============================] - 0s 73us/step - loss: 5.4865 - acc: 0.6596\n",
      "Epoch 188/200\n",
      "614/614 [==============================] - 0s 75us/step - loss: 5.4865 - acc: 0.6596\n",
      "Epoch 189/200\n",
      "614/614 [==============================] - 0s 78us/step - loss: 5.4865 - acc: 0.6596\n",
      "Epoch 190/200\n",
      "614/614 [==============================] - 0s 81us/step - loss: 5.4865 - acc: 0.6596\n",
      "Epoch 191/200\n",
      "614/614 [==============================] - 0s 80us/step - loss: 5.4865 - acc: 0.6596\n",
      "Epoch 192/200\n",
      "614/614 [==============================] - 0s 83us/step - loss: 5.4865 - acc: 0.6596\n",
      "Epoch 193/200\n",
      "614/614 [==============================] - 0s 77us/step - loss: 5.4865 - acc: 0.6596\n",
      "Epoch 194/200\n",
      "614/614 [==============================] - 0s 73us/step - loss: 5.4865 - acc: 0.6596\n",
      "Epoch 195/200\n",
      "614/614 [==============================] - 0s 88us/step - loss: 5.4865 - acc: 0.6596\n",
      "Epoch 196/200\n",
      "614/614 [==============================] - 0s 85us/step - loss: 5.4865 - acc: 0.6596\n",
      "Epoch 197/200\n",
      "614/614 [==============================] - 0s 72us/step - loss: 5.4865 - acc: 0.6596\n",
      "Epoch 198/200\n",
      "614/614 [==============================] - 0s 98us/step - loss: 5.4865 - acc: 0.6596\n",
      "Epoch 199/200\n",
      "614/614 [==============================] - 0s 75us/step - loss: 5.4865 - acc: 0.6596\n",
      "Epoch 200/200\n",
      "614/614 [==============================] - 0s 83us/step - loss: 5.4865 - acc: 0.6596\n"
     ]
    },
    {
     "data": {
      "text/plain": [
       "<keras.callbacks.History at 0x1d3459ccd68>"
      ]
     },
     "execution_count": 86,
     "metadata": {},
     "output_type": "execute_result"
    }
   ],
   "source": [
    "model.fit(X_train, y_train, epochs=200, batch_size=30)"
   ]
  },
  {
   "cell_type": "code",
   "execution_count": 87,
   "metadata": {},
   "outputs": [
    {
     "name": "stdout",
     "output_type": "stream",
     "text": [
      "154/154 [==============================] - 0s 448us/step\n"
     ]
    },
    {
     "data": {
      "text/plain": [
       "[6.175114569725928, 0.6168831168831169]"
      ]
     },
     "execution_count": 87,
     "metadata": {},
     "output_type": "execute_result"
    }
   ],
   "source": [
    "ann_accuracy=model.evaluate(X_test, y_test)\n",
    "ann_accuracy"
   ]
  },
  {
   "cell_type": "code",
   "execution_count": 88,
   "metadata": {},
   "outputs": [
    {
     "data": {
      "text/plain": [
       "0.6168831168831169"
      ]
     },
     "execution_count": 88,
     "metadata": {},
     "output_type": "execute_result"
    }
   ],
   "source": [
    "ann_accuracy[1]"
   ]
  },
  {
   "cell_type": "code",
   "execution_count": 89,
   "metadata": {},
   "outputs": [],
   "source": [
    "df_results=pd.DataFrame({'Classifier':['LR','NB','RF','Xgb', 'ANN'],\n",
    "                       'Recall_Score':[lr_recall,nb_recall, rf_recall, xg_recall,None ],\n",
    "                        'Accuracy_Score':[lr_accuracy, nb_accuracy, rf_accuracy, xg_accuracy, ann_accuracy[1]]}\n",
    "                       )"
   ]
  },
  {
   "cell_type": "code",
   "execution_count": 90,
   "metadata": {},
   "outputs": [
    {
     "data": {
      "text/html": [
       "<div>\n",
       "<style scoped>\n",
       "    .dataframe tbody tr th:only-of-type {\n",
       "        vertical-align: middle;\n",
       "    }\n",
       "\n",
       "    .dataframe tbody tr th {\n",
       "        vertical-align: top;\n",
       "    }\n",
       "\n",
       "    .dataframe thead th {\n",
       "        text-align: right;\n",
       "    }\n",
       "</style>\n",
       "<table border=\"1\" class=\"dataframe\">\n",
       "  <thead>\n",
       "    <tr style=\"text-align: right;\">\n",
       "      <th></th>\n",
       "      <th>Classifier</th>\n",
       "      <th>Recall_Score</th>\n",
       "      <th>Accuracy_Score</th>\n",
       "    </tr>\n",
       "  </thead>\n",
       "  <tbody>\n",
       "    <tr>\n",
       "      <th>0</th>\n",
       "      <td>LR</td>\n",
       "      <td>0.457627</td>\n",
       "      <td>0.733766</td>\n",
       "    </tr>\n",
       "    <tr>\n",
       "      <th>1</th>\n",
       "      <td>NB</td>\n",
       "      <td>0.610169</td>\n",
       "      <td>0.766234</td>\n",
       "    </tr>\n",
       "    <tr>\n",
       "      <th>2</th>\n",
       "      <td>RF</td>\n",
       "      <td>0.813559</td>\n",
       "      <td>0.883117</td>\n",
       "    </tr>\n",
       "    <tr>\n",
       "      <th>3</th>\n",
       "      <td>Xgb</td>\n",
       "      <td>0.847458</td>\n",
       "      <td>0.883117</td>\n",
       "    </tr>\n",
       "    <tr>\n",
       "      <th>4</th>\n",
       "      <td>ANN</td>\n",
       "      <td>NaN</td>\n",
       "      <td>0.616883</td>\n",
       "    </tr>\n",
       "  </tbody>\n",
       "</table>\n",
       "</div>"
      ],
      "text/plain": [
       "  Classifier  Recall_Score  Accuracy_Score\n",
       "0         LR      0.457627        0.733766\n",
       "1         NB      0.610169        0.766234\n",
       "2         RF      0.813559        0.883117\n",
       "3        Xgb      0.847458        0.883117\n",
       "4        ANN           NaN        0.616883"
      ]
     },
     "execution_count": 90,
     "metadata": {},
     "output_type": "execute_result"
    }
   ],
   "source": [
    "df_results"
   ]
  },
  {
   "cell_type": "code",
   "execution_count": 91,
   "metadata": {},
   "outputs": [
    {
     "data": {
      "text/plain": [
       "<matplotlib.axes._subplots.AxesSubplot at 0x1d345b5f240>"
      ]
     },
     "execution_count": 91,
     "metadata": {},
     "output_type": "execute_result"
    },
    {
     "data": {
      "image/png": "[encoded data removed]",
      "text/plain": [
       "<Figure size 432x288 with 1 Axes>"
      ]
     },
     "metadata": {},
     "output_type": "display_data"
    }
   ],
   "source": [
    "sns.set(style=\"darkgrid\")\n",
    "sns.barplot(x='Classifier', y=\"Accuracy_Score\", data=df_results)"
   ]
  },
  {
   "cell_type": "code",
   "execution_count": 92,
   "metadata": {},
   "outputs": [
    {
     "data": {
      "text/plain": [
       "<matplotlib.axes._subplots.AxesSubplot at 0x1d346bac208>"
      ]
     },
     "execution_count": 92,
     "metadata": {},
     "output_type": "execute_result"
    },
    {
     "data": {
      "image/png": "[encoded data removed]",
      "text/plain": [
       "<Figure size 432x288 with 1 Axes>"
      ]
     },
     "metadata": {},
     "output_type": "display_data"
    }
   ],
   "source": [
    "sns.set(style=\"darkgrid\")\n",
    "sns.barplot(x='Classifier', y=\"Recall_Score\", data=df_results)"
   ]
  },
  {
   "cell_type": "code",
   "execution_count": null,
   "metadata": {},
   "outputs": [],
   "source": []
  }
 ],
 "metadata": {
  "kernelspec": {
   "display_name": "Python 3",
   "language": "python",
   "name": "python3"
  },
  "language_info": {
   "codemirror_mode": {
    "name": "ipython",
    "version": 3
   },
   "file_extension": ".py",
   "mimetype": "text/x-python",
   "name": "python",
   "nbconvert_exporter": "python",
   "pygments_lexer": "ipython3",
   "version": "3.7.3"
  }
 },
 "nbformat": 4,
 "nbformat_minor": 2
}
